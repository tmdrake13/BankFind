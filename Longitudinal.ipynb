{
 "cells": [
  {
   "cell_type": "code",
   "execution_count": 24,
   "id": "3493dba6",
   "metadata": {},
   "outputs": [],
   "source": [
    "import requests\n",
    "import xgboost as xgb\n",
    "from sklearn.model_selection import train_test_split\n",
    "from sklearn import preprocessing\n",
    "import numpy as np\n",
    "import pandas as pd\n",
    "import matplotlib.pyplot as plt\n",
    "import seaborn as sns\n",
    "sns.set()\n",
    "\n",
    "def search(search_type, filters='', fields = [], other_args = {}):\n",
    "    base_URL = 'https://banks.data.fdic.gov/api/'\n",
    "    finished = False\n",
    "    data = []\n",
    "    \n",
    "    params = {'limit' : 500}\n",
    "    params['filters'] = filters\n",
    "    params['offset'] = 0\n",
    "    params['fields'] = ','.join(fields)\n",
    "    \n",
    "    for key, value in other_args.items():\n",
    "        params[key] = value\n",
    "    \n",
    "    while not finished:\n",
    "        try:\n",
    "            r = requests.get(base_URL + search_type, params=params).json()\n",
    "        except ConnectionError:\n",
    "            print(\"Connection error\")\n",
    "            continue\n",
    "        data.extend(r['data'])\n",
    "        if len(r['data']) < params['limit']:\n",
    "            finished = True\n",
    "        params['offset'] += params['limit']\n",
    "        \n",
    "    return [x['data'] for x in data]"
   ]
  },
  {
   "cell_type": "code",
   "execution_count": 42,
   "id": "bab13b43",
   "metadata": {},
   "outputs": [],
   "source": [
    "r = search('financials', 'CALLYM:202103')"
   ]
  },
  {
   "cell_type": "code",
   "execution_count": 45,
   "id": "8860b0dd",
   "metadata": {},
   "outputs": [],
   "source": [
    "data = pd.DataFrame(r)"
   ]
  },
  {
   "cell_type": "code",
   "execution_count": 49,
   "id": "3d487661",
   "metadata": {},
   "outputs": [
    {
     "data": {
      "text/html": [
       "<div>\n",
       "<style scoped>\n",
       "    .dataframe tbody tr th:only-of-type {\n",
       "        vertical-align: middle;\n",
       "    }\n",
       "\n",
       "    .dataframe tbody tr th {\n",
       "        vertical-align: top;\n",
       "    }\n",
       "\n",
       "    .dataframe thead th {\n",
       "        text-align: right;\n",
       "    }\n",
       "</style>\n",
       "<table border=\"1\" class=\"dataframe\">\n",
       "  <thead>\n",
       "    <tr style=\"text-align: right;\">\n",
       "      <th></th>\n",
       "      <th>DRRENROW</th>\n",
       "      <th>EINTXQ</th>\n",
       "      <th>ASCERES</th>\n",
       "      <th>EXTRA</th>\n",
       "      <th>DEPUSBKF</th>\n",
       "      <th>UYANMTG</th>\n",
       "      <th>DRRENROT</th>\n",
       "      <th>RBCT1CER</th>\n",
       "      <th>RTPOC</th>\n",
       "      <th>LNOT5T15</th>\n",
       "      <th>...</th>\n",
       "      <th>P3RSLNFM</th>\n",
       "      <th>P9RENROW</th>\n",
       "      <th>LNMUNI</th>\n",
       "      <th>LNOT1T3</th>\n",
       "      <th>P9RENROT</th>\n",
       "      <th>SZDRAUTO</th>\n",
       "      <th>IINSUNDQ</th>\n",
       "      <th>CHBALNI</th>\n",
       "      <th>LNRECNFM</th>\n",
       "      <th>ID</th>\n",
       "    </tr>\n",
       "  </thead>\n",
       "  <tbody>\n",
       "    <tr>\n",
       "      <th>0</th>\n",
       "      <td>0.0</td>\n",
       "      <td>163.0</td>\n",
       "      <td>NaN</td>\n",
       "      <td>0.0</td>\n",
       "      <td>NaN</td>\n",
       "      <td>None</td>\n",
       "      <td>0.0</td>\n",
       "      <td>NaN</td>\n",
       "      <td>NaN</td>\n",
       "      <td>8022.0</td>\n",
       "      <td>...</td>\n",
       "      <td>0.0</td>\n",
       "      <td>0.0</td>\n",
       "      <td>1124.0</td>\n",
       "      <td>14197.0</td>\n",
       "      <td>0.0</td>\n",
       "      <td>NaN</td>\n",
       "      <td>NaN</td>\n",
       "      <td>1746.0</td>\n",
       "      <td>881.0</td>\n",
       "      <td>10004_20210331</td>\n",
       "    </tr>\n",
       "    <tr>\n",
       "      <th>1</th>\n",
       "      <td>0.0</td>\n",
       "      <td>369.0</td>\n",
       "      <td>NaN</td>\n",
       "      <td>0.0</td>\n",
       "      <td>NaN</td>\n",
       "      <td>None</td>\n",
       "      <td>0.0</td>\n",
       "      <td>11.60</td>\n",
       "      <td>NaN</td>\n",
       "      <td>41483.0</td>\n",
       "      <td>...</td>\n",
       "      <td>0.0</td>\n",
       "      <td>0.0</td>\n",
       "      <td>3511.0</td>\n",
       "      <td>41382.0</td>\n",
       "      <td>0.0</td>\n",
       "      <td>NaN</td>\n",
       "      <td>NaN</td>\n",
       "      <td>3420.0</td>\n",
       "      <td>2419.0</td>\n",
       "      <td>10011_20210331</td>\n",
       "    </tr>\n",
       "    <tr>\n",
       "      <th>2</th>\n",
       "      <td>0.0</td>\n",
       "      <td>96.0</td>\n",
       "      <td>NaN</td>\n",
       "      <td>0.0</td>\n",
       "      <td>NaN</td>\n",
       "      <td>None</td>\n",
       "      <td>0.0</td>\n",
       "      <td>16.28</td>\n",
       "      <td>NaN</td>\n",
       "      <td>9148.0</td>\n",
       "      <td>...</td>\n",
       "      <td>0.0</td>\n",
       "      <td>0.0</td>\n",
       "      <td>2860.0</td>\n",
       "      <td>37698.0</td>\n",
       "      <td>0.0</td>\n",
       "      <td>NaN</td>\n",
       "      <td>NaN</td>\n",
       "      <td>3297.0</td>\n",
       "      <td>1576.0</td>\n",
       "      <td>10012_20210331</td>\n",
       "    </tr>\n",
       "    <tr>\n",
       "      <th>3</th>\n",
       "      <td>0.0</td>\n",
       "      <td>250.0</td>\n",
       "      <td>NaN</td>\n",
       "      <td>0.0</td>\n",
       "      <td>NaN</td>\n",
       "      <td>None</td>\n",
       "      <td>0.0</td>\n",
       "      <td>NaN</td>\n",
       "      <td>NaN</td>\n",
       "      <td>7974.0</td>\n",
       "      <td>...</td>\n",
       "      <td>0.0</td>\n",
       "      <td>0.0</td>\n",
       "      <td>234.0</td>\n",
       "      <td>39003.0</td>\n",
       "      <td>0.0</td>\n",
       "      <td>NaN</td>\n",
       "      <td>NaN</td>\n",
       "      <td>7540.0</td>\n",
       "      <td>2422.0</td>\n",
       "      <td>10015_20210331</td>\n",
       "    </tr>\n",
       "    <tr>\n",
       "      <th>4</th>\n",
       "      <td>0.0</td>\n",
       "      <td>577.0</td>\n",
       "      <td>NaN</td>\n",
       "      <td>0.0</td>\n",
       "      <td>NaN</td>\n",
       "      <td>None</td>\n",
       "      <td>0.0</td>\n",
       "      <td>NaN</td>\n",
       "      <td>NaN</td>\n",
       "      <td>59983.0</td>\n",
       "      <td>...</td>\n",
       "      <td>0.0</td>\n",
       "      <td>0.0</td>\n",
       "      <td>36582.0</td>\n",
       "      <td>353354.0</td>\n",
       "      <td>0.0</td>\n",
       "      <td>NaN</td>\n",
       "      <td>NaN</td>\n",
       "      <td>23216.0</td>\n",
       "      <td>16274.0</td>\n",
       "      <td>10044_20210331</td>\n",
       "    </tr>\n",
       "  </tbody>\n",
       "</table>\n",
       "<p>5 rows × 1221 columns</p>\n",
       "</div>"
      ],
      "text/plain": [
       "   DRRENROW  EINTXQ  ASCERES  EXTRA  DEPUSBKF UYANMTG  DRRENROT  RBCT1CER  \\\n",
       "0       0.0   163.0      NaN    0.0       NaN    None       0.0       NaN   \n",
       "1       0.0   369.0      NaN    0.0       NaN    None       0.0     11.60   \n",
       "2       0.0    96.0      NaN    0.0       NaN    None       0.0     16.28   \n",
       "3       0.0   250.0      NaN    0.0       NaN    None       0.0       NaN   \n",
       "4       0.0   577.0      NaN    0.0       NaN    None       0.0       NaN   \n",
       "\n",
       "   RTPOC  LNOT5T15  ...  P3RSLNFM  P9RENROW   LNMUNI   LNOT1T3 P9RENROT  \\\n",
       "0    NaN    8022.0  ...       0.0       0.0   1124.0   14197.0      0.0   \n",
       "1    NaN   41483.0  ...       0.0       0.0   3511.0   41382.0      0.0   \n",
       "2    NaN    9148.0  ...       0.0       0.0   2860.0   37698.0      0.0   \n",
       "3    NaN    7974.0  ...       0.0       0.0    234.0   39003.0      0.0   \n",
       "4    NaN   59983.0  ...       0.0       0.0  36582.0  353354.0      0.0   \n",
       "\n",
       "   SZDRAUTO  IINSUNDQ  CHBALNI  LNRECNFM              ID  \n",
       "0       NaN       NaN   1746.0     881.0  10004_20210331  \n",
       "1       NaN       NaN   3420.0    2419.0  10011_20210331  \n",
       "2       NaN       NaN   3297.0    1576.0  10012_20210331  \n",
       "3       NaN       NaN   7540.0    2422.0  10015_20210331  \n",
       "4       NaN       NaN  23216.0   16274.0  10044_20210331  \n",
       "\n",
       "[5 rows x 1221 columns]"
      ]
     },
     "execution_count": 49,
     "metadata": {},
     "output_type": "execute_result"
    }
   ],
   "source": [
    "data.head()"
   ]
  },
  {
   "cell_type": "code",
   "execution_count": 52,
   "id": "8427de99",
   "metadata": {},
   "outputs": [],
   "source": [
    "nas = []\n",
    "for col in data.columns:\n",
    "    count = 0\n",
    "    for num in data[col]:\n",
    "        if pd.isna(num):\n",
    "            count += 1\n",
    "    if count > 0:\n",
    "        nas.append((col, count))"
   ]
  },
  {
   "cell_type": "code",
   "execution_count": 55,
   "id": "af8aa1d4",
   "metadata": {},
   "outputs": [],
   "source": [
    "nas_to_drop = []\n",
    "for n in nas:\n",
    "    if n[1] > 17:\n",
    "        nas_to_drop.append(n[0])"
   ]
  },
  {
   "cell_type": "code",
   "execution_count": 68,
   "id": "1cf952b8",
   "metadata": {},
   "outputs": [
    {
     "data": {
      "text/plain": [
       "455"
      ]
     },
     "execution_count": 68,
     "metadata": {},
     "output_type": "execute_result"
    }
   ],
   "source": [
    "nas_to_drop"
   ]
  },
  {
   "cell_type": "code",
   "execution_count": 63,
   "id": "8650d453",
   "metadata": {},
   "outputs": [],
   "source": [
    "new_data = data.drop(nas_to_drop + ['ID'], axis =1)"
   ]
  },
  {
   "cell_type": "code",
   "execution_count": 64,
   "id": "88cf7171",
   "metadata": {},
   "outputs": [
    {
     "data": {
      "text/plain": [
       "18"
      ]
     },
     "execution_count": 64,
     "metadata": {},
     "output_type": "execute_result"
    }
   ],
   "source": [
    "new_data.shape[0] - new_data.dropna().shape[0]"
   ]
  },
  {
   "cell_type": "code",
   "execution_count": 65,
   "id": "1d64fd20",
   "metadata": {},
   "outputs": [],
   "source": [
    "cdata = new_data.dropna()"
   ]
  },
  {
   "cell_type": "code",
   "execution_count": 74,
   "id": "5658982b",
   "metadata": {},
   "outputs": [],
   "source": [
    "cdataf = cdata.select_dtypes(exclude=['object', 'string'])"
   ]
  },
  {
   "cell_type": "code",
   "execution_count": 79,
   "id": "32ff3448",
   "metadata": {},
   "outputs": [
    {
     "data": {
      "text/plain": [
       "{dtype('int64'), dtype('float64')}"
      ]
     },
     "execution_count": 79,
     "metadata": {},
     "output_type": "execute_result"
    }
   ],
   "source": []
  },
  {
   "cell_type": "code",
   "execution_count": null,
   "id": "28bddb48",
   "metadata": {},
   "outputs": [],
   "source": []
  }
 ],
 "metadata": {
  "kernelspec": {
   "display_name": "Python 3",
   "language": "python",
   "name": "python3"
  },
  "language_info": {
   "codemirror_mode": {
    "name": "ipython",
    "version": 3
   },
   "file_extension": ".py",
   "mimetype": "text/x-python",
   "name": "python",
   "nbconvert_exporter": "python",
   "pygments_lexer": "ipython3",
   "version": "3.8.8"
  }
 },
 "nbformat": 4,
 "nbformat_minor": 5
}
