{
 "cells": [
  {
   "cell_type": "code",
   "execution_count": 95,
   "id": "b08d4c93",
   "metadata": {},
   "outputs": [],
   "source": [
    "import import_ipynb\n",
    "from BankFindSearch import search"
   ]
  },
  {
   "cell_type": "markdown",
   "id": "869c16dc",
   "metadata": {},
   "source": [
    "### Demo for ```search``` function"
   ]
  },
  {
   "cell_type": "code",
   "execution_count": 96,
   "id": "c5cd8342",
   "metadata": {},
   "outputs": [
    {
     "data": {
      "text/plain": [
       "[{'YEAR': '2019',\n",
       "  'STNAME': 'North Carolina',\n",
       "  'ASSET': 2383515137,\n",
       "  'ID': 'CB_2019_37'},\n",
       " {'YEAR': '2019',\n",
       "  'STNAME': 'North Carolina',\n",
       "  'ASSET': 2797093,\n",
       "  'ID': 'SI_2019_37'}]"
      ]
     },
     "execution_count": 96,
     "metadata": {},
     "output_type": "execute_result"
    }
   ],
   "source": [
    "search('summary', 'STNAME: \"North Carolina\" AND YEAR:2019', ['ASSET', 'STNAME', 'YEAR'])"
   ]
  },
  {
   "cell_type": "markdown",
   "id": "fef6cfb1",
   "metadata": {},
   "source": [
    "### Reading ```institutions.csv``` into pandas dataframe"
   ]
  },
  {
   "cell_type": "code",
   "execution_count": 97,
   "id": "9fd97572",
   "metadata": {},
   "outputs": [],
   "source": [
    "import pandas as pd\n",
    "\n",
    "#quantitative variables in institutions dataset \n",
    "numeric_cols = ['ASSET', 'DEP', 'DEPDOM', 'EQ', 'NETINC', 'NETINCQ', 'OFFDOM', 'OFFFOR', 'OFFOA', 'ROA', 'ROAPTX', 'ROAPTXQ', 'ROAQ',\n",
    "               'ROE', 'ROEQ']\n",
    "\n",
    "#categorical variables that use a binary indicator\n",
    "flag_cols = ['ACTIVE', 'CFPBFLAG', 'CONSERVE', 'DENOVO', 'FEDCHRTR',\n",
    "            'FORM31', 'INSDIF', 'INSTAG', 'LAW_SASSER_FLG', 'STCHRTR']\n",
    "\n",
    "#both these types of variables can be used in analysis\n",
    "cols = numeric_cols + flag_cols"
   ]
  },
  {
   "cell_type": "code",
   "execution_count": 98,
   "id": "348802dc",
   "metadata": {},
   "outputs": [],
   "source": [
    "data = pd.read_csv('institutions.csv', usecols = cols)"
   ]
  },
  {
   "cell_type": "code",
   "execution_count": 99,
   "id": "49ef035d",
   "metadata": {},
   "outputs": [],
   "source": [
    "#map 'Y' to 1 and 'N' to 0 for variables using this notation\n",
    "data['CONSERVE'] = data['CONSERVE'].map(dict(Y=1, N=0))\n",
    "data['LAW_SASSER_FLG'] = data['LAW_SASSER_FLG'].map(dict(Y=1, N=0))"
   ]
  },
  {
   "cell_type": "markdown",
   "id": "6b11cf4b",
   "metadata": {},
   "source": [
    "### Cleaning pandas dataframe"
   ]
  },
  {
   "cell_type": "code",
   "execution_count": 100,
   "id": "4d339063",
   "metadata": {},
   "outputs": [
    {
     "name": "stdout",
     "output_type": "stream",
     "text": [
      "Missing values for each variable:\n",
      "ASSET: 4005\n",
      "DEP: 4005\n",
      "DEPDOM: 4005\n",
      "EQ: 4046\n",
      "NETINC: 4005\n",
      "NETINCQ: 4005\n",
      "OFFDOM: 4005\n",
      "OFFFOR: 4005\n",
      "OFFOA: 4005\n",
      "ROA: 4005\n",
      "ROAPTX: 4005\n",
      "ROAPTXQ: 4005\n",
      "ROAQ: 4005\n",
      "ROE: 4005\n",
      "ROEQ: 4005\n",
      "DENOVO: 4005\n",
      "FORM31: 4005\n",
      "INSTAG: 4005\n"
     ]
    }
   ],
   "source": [
    "#display which variables have missing values and how many \n",
    "print('Missing values for each variable:')\n",
    "for col in cols:\n",
    "    count = 0\n",
    "    for num in data[col]:\n",
    "        if pd.isna(num):\n",
    "            count+=1\n",
    "    if (count > 0):\n",
    "        print(f'{col}: {count}')"
   ]
  },
  {
   "cell_type": "code",
   "execution_count": 101,
   "id": "41308556",
   "metadata": {},
   "outputs": [
    {
     "data": {
      "text/plain": [
       "4046"
      ]
     },
     "execution_count": 101,
     "metadata": {},
     "output_type": "execute_result"
    }
   ],
   "source": [
    "#total number of datapoints that have at least one missing value\n",
    "data.shape[0] - data.dropna().shape[0]"
   ]
  },
  {
   "cell_type": "code",
   "execution_count": 102,
   "id": "0791695b",
   "metadata": {},
   "outputs": [],
   "source": [
    "#drop any datapoints(rows) with missing values\n",
    "data_dropna = data.dropna()"
   ]
  },
  {
   "cell_type": "markdown",
   "id": "252a05c2",
   "metadata": {},
   "source": [
    "### Demo and practice visualizing data"
   ]
  },
  {
   "cell_type": "code",
   "execution_count": 103,
   "id": "b17a6bda",
   "metadata": {},
   "outputs": [],
   "source": [
    "import matplotlib.pyplot as plt\n",
    "import seaborn as sns\n",
    "sns.set()"
   ]
  },
  {
   "cell_type": "code",
   "execution_count": 104,
   "id": "c7ceea6d",
   "metadata": {},
   "outputs": [],
   "source": [
    "variables = ['YEAR','BRANCHES']\n",
    "\n",
    "#Pull data from API using search according to specified variables\n",
    "r = search(\"summary\", 'STNAME:\"United States\" AND CB_SI:CB',variables)\n",
    "\n",
    "#Convert search result to pandas dataframe\n",
    "frame = pd.DataFrame(r, columns = variables)\n",
    "x = frame[variables[0]]\n",
    "y = frame[variables[1]]"
   ]
  },
  {
   "cell_type": "code",
   "execution_count": 105,
   "id": "eb862d7a",
   "metadata": {},
   "outputs": [
    {
     "data": {
      "image/png": "[encoded data removed]",
      "text/plain": [
       "<Figure size 432x288 with 1 Axes>"
      ]
     },
     "metadata": {},
     "output_type": "display_data"
    }
   ],
   "source": [
    "#Plot the pandas dataframe\n",
    "plt.scatter(x,y)\n",
    "plt.xlabel(variables[0], fontsize=20)\n",
    "plt.ylabel(variables[1], fontsize=20)\n",
    "ticks = [x for x in range(1, 96, 10)]\n",
    "plt.xticks(ticks)\n",
    "plt.show()"
   ]
  },
  {
   "cell_type": "code",
   "execution_count": 106,
   "id": "1c45fe78",
   "metadata": {},
   "outputs": [
    {
     "data": {
      "image/png": "[encoded data removed]",
      "text/plain": [
       "<Figure size 432x288 with 1 Axes>"
      ]
     },
     "metadata": {},
     "output_type": "display_data"
    }
   ],
   "source": [
    "#Plot pandas dataframe already loaded from institutions.csv\n",
    "variables = ['EQ','OFFDOM']\n",
    "x = data[variables[0]]\n",
    "y = data[variables[1]]\n",
    "\n",
    "plt.scatter(x,y)\n",
    "plt.xlabel(variables[0], fontsize=20)\n",
    "plt.ylabel(variables[1], fontsize=20)\n",
    "plt.show()"
   ]
  },
  {
   "cell_type": "markdown",
   "id": "a165c2fe",
   "metadata": {},
   "source": [
    "### Practice and preliminary XGBoost implementation"
   ]
  },
  {
   "cell_type": "code",
   "execution_count": 107,
   "id": "77d1f9aa",
   "metadata": {},
   "outputs": [],
   "source": [
    "import xgboost as xgb\n",
    "from sklearn.model_selection import train_test_split\n",
    "from sklearn import preprocessing\n",
    "import numpy as np"
   ]
  },
  {
   "cell_type": "code",
   "execution_count": 108,
   "id": "3147392a",
   "metadata": {},
   "outputs": [],
   "source": [
    "#Converting ROA variable to binary indicator (1 for positive ROA, 0 otherwise)\n",
    "targets = [0 if x < 0 else 1 for x in data_dropna['ROA']]\n",
    "\n",
    "#Drop quantitative variables - will focus on binary indicators\n",
    "data_dropcols = data_dropna.drop(numeric_cols , axis=1)\n",
    "data_dropcols['ROAb'] = targets"
   ]
  },
  {
   "cell_type": "code",
   "execution_count": 109,
   "id": "d1983385",
   "metadata": {},
   "outputs": [],
   "source": [
    "#Shuffle the dataset since we are about to balance\n",
    "data_dropcols_shuff = data_dropcols.sample(frac=1, random_state=40)"
   ]
  },
  {
   "cell_type": "code",
   "execution_count": 120,
   "id": "8201e877",
   "metadata": {},
   "outputs": [
    {
     "data": {
      "text/plain": [
       "0.7275904172455897"
      ]
     },
     "execution_count": 120,
     "metadata": {},
     "output_type": "execute_result"
    }
   ],
   "source": [
    "#Check to see if target data is balanced (it is not)\n",
    "sum(data_dropcols_shuff['ROAb']) / len(data_dropcols_shuff['ROAb'])"
   ]
  },
  {
   "cell_type": "code",
   "execution_count": 121,
   "id": "326ae393",
   "metadata": {},
   "outputs": [],
   "source": [
    "#Balance the dataset to have an equal amount of 0 and 1 targets\n",
    "num_zero_targets = len(targets) - sum(targets)\n",
    "one_targets_counter = 0\n",
    "indices = []\n",
    "\n",
    "count = 0\n",
    "for index,row in data_dropcols_shuff.iterrows():\n",
    "    if (row['ROAb'] == 1):\n",
    "        one_targets_counter += 1\n",
    "        if one_targets_counter > num_zero_targets:\n",
    "            indices.append(index)\n",
    "\n",
    "data_balanced = data_dropcols_shuff.drop(indices)"
   ]
  },
  {
   "cell_type": "code",
   "execution_count": 122,
   "id": "f12152da",
   "metadata": {},
   "outputs": [
    {
     "data": {
      "text/plain": [
       "0.5"
      ]
     },
     "execution_count": 122,
     "metadata": {},
     "output_type": "execute_result"
    }
   ],
   "source": [
    "#confirm data is now balanced\n",
    "sum(data_balanced['ROAb']) / len(data_balanced['ROAb'])"
   ]
  },
  {
   "cell_type": "code",
   "execution_count": 113,
   "id": "b25a0254",
   "metadata": {},
   "outputs": [],
   "source": [
    "#reshuffle to uniformly disperse 1s and 0s in target\n",
    "data_balanced_shuff = data_balanced.sample(frac=1, random_state=42)"
   ]
  },
  {
   "cell_type": "code",
   "execution_count": 114,
   "id": "c6a8c63a",
   "metadata": {},
   "outputs": [],
   "source": [
    "#partition the inputs and the targets\n",
    "targets = data_balanced_shuff['ROAb']\n",
    "inputs = data_balanced_shuff.drop('ROAb', axis = 1)\n",
    "\n",
    "#scale inputs - not imperative since only dealing with binary variables, but good practice\n",
    "inputs_scaled = preprocessing.scale(inputs)\n",
    "\n",
    "#split into a train and test dataset - 90-10 split\n",
    "train, test = train_test_split(inputs, test_size=0.10, random_state=42, shuffle=False)\n",
    "train_targets = targets[:len(train)]\n",
    "test_targets = targets[len(train):]"
   ]
  },
  {
   "cell_type": "code",
   "execution_count": 115,
   "id": "cf64e60c",
   "metadata": {},
   "outputs": [],
   "source": [
    "#load data into xgb data matrix\n",
    "dtrain = xgb.DMatrix(train, label=train_targets)\n",
    "dtest = xgb.DMatrix(test, label=test_targets)"
   ]
  },
  {
   "cell_type": "code",
   "execution_count": 116,
   "id": "c5ddf92a",
   "metadata": {},
   "outputs": [
    {
     "name": "stdout",
     "output_type": "stream",
     "text": [
      "[12:55:36] WARNING: C:/Users/Administrator/workspace/xgboost-win64_release_1.4.0/src/learner.cc:1095: Starting in XGBoost 1.3.0, the default evaluation metric used with the objective 'binary:logistic' was changed from 'error' to 'logloss'. Explicitly set eval_metric if you'd like to restore the old behavior.\n"
     ]
    }
   ],
   "source": [
    "#perform xgboost training\n",
    "param = {'max_depth':2, 'eta':1, 'objective':'binary:logistic' }\n",
    "num_round = 2\n",
    "bst = xgb.train(param, dtrain, num_round)"
   ]
  },
  {
   "cell_type": "code",
   "execution_count": 117,
   "id": "6010d415",
   "metadata": {},
   "outputs": [],
   "source": [
    "# make predictions on test dataset\n",
    "preds = bst.predict(dtest)"
   ]
  },
  {
   "cell_type": "code",
   "execution_count": 118,
   "id": "cd47c632",
   "metadata": {},
   "outputs": [
    {
     "data": {
      "text/plain": [
       "<AxesSubplot:title={'center':'Feature importance'}, xlabel='F score', ylabel='Features'>"
      ]
     },
     "execution_count": 118,
     "metadata": {},
     "output_type": "execute_result"
    },
    {
     "data": {
      "image/png": "[encoded data removed]",
      "text/plain": [
       "<Figure size 432x288 with 1 Axes>"
      ]
     },
     "metadata": {},
     "output_type": "display_data"
    }
   ],
   "source": [
    "#plot feature importance\n",
    "xgb.plot_importance(bst)"
   ]
  },
  {
   "cell_type": "code",
   "execution_count": 119,
   "id": "b3c174ee",
   "metadata": {},
   "outputs": [
    {
     "name": "stdout",
     "output_type": "stream",
     "text": [
      "0.6120556414219475\n"
     ]
    }
   ],
   "source": [
    "#calculate the accuracy of the model on the test dataset\n",
    "count = 0\n",
    "\n",
    "for i in range(len(test)):\n",
    "    if preds[i] >= .5:\n",
    "        pred = 1\n",
    "    else:\n",
    "        pred = 0\n",
    "    if pred == test_targets.iloc[i]:\n",
    "        count+=1\n",
    "print(count/len(test))"
   ]
  },
  {
   "cell_type": "markdown",
   "id": "759a2cda",
   "metadata": {},
   "source": [
    "##### Accuracy here is at least better than random guessing (50% accuracy), so there is some significance, but we hope to do better than 60% "
   ]
  },
  {
   "cell_type": "code",
   "execution_count": null,
   "id": "05034105",
   "metadata": {},
   "outputs": [],
   "source": []
  }
 ],
 "metadata": {
  "kernelspec": {
   "display_name": "Python 3",
   "language": "python",
   "name": "python3"
  },
  "language_info": {
   "codemirror_mode": {
    "name": "ipython",
    "version": 3
   },
   "file_extension": ".py",
   "mimetype": "text/x-python",
   "name": "python",
   "nbconvert_exporter": "python",
   "pygments_lexer": "ipython3",
   "version": "3.8.8"
  }
 },
 "nbformat": 4,
 "nbformat_minor": 5
}
