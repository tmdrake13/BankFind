{
 "cells": [
  {
   "cell_type": "code",
   "execution_count": 2,
   "id": "d8f90077",
   "metadata": {},
   "outputs": [],
   "source": [
    "import requests\n",
    "def search(search_type, filters='', fields = [], other_args = {}):\n",
    "    base_URL = 'https://banks.data.fdic.gov/api/'\n",
    "    finished = False\n",
    "    data = []\n",
    "    \n",
    "    params = {'limit' : 500}\n",
    "    params['filters'] = filters\n",
    "    params['offset'] = 0\n",
    "    params['fields'] = ','.join(fields)\n",
    "    \n",
    "    for key, value in other_args.items():\n",
    "        params[key] = value\n",
    "    \n",
    "    while not finished:\n",
    "        try:\n",
    "            r = requests.get(base_URL + search_type, params=params).json()\n",
    "        except ConnectionError:\n",
    "            print(\"Connection error\")\n",
    "            continue\n",
    "        data.extend(r['data'])\n",
    "        if len(r['data']) < params['limit']:\n",
    "            finished = True\n",
    "        params['offset'] += params['limit']\n",
    "        \n",
    "    return [x['data'] for x in data]"
   ]
  }
 ],
 "metadata": {
  "kernelspec": {
   "display_name": "Python 3",
   "language": "python",
   "name": "python3"
  },
  "language_info": {
   "codemirror_mode": {
    "name": "ipython",
    "version": 3
   },
   "file_extension": ".py",
   "mimetype": "text/x-python",
   "name": "python",
   "nbconvert_exporter": "python",
   "pygments_lexer": "ipython3",
   "version": "3.8.8"
  }
 },
 "nbformat": 4,
 "nbformat_minor": 5
}
