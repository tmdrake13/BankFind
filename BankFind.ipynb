{
 "cells": [
  {
   "cell_type": "code",
   "execution_count": 2,
   "id": "b08d4c93",
   "metadata": {},
   "outputs": [],
   "source": [
    "import requests"
   ]
  },
  {
   "cell_type": "code",
   "execution_count": 3,
   "id": "5443078c",
   "metadata": {},
   "outputs": [],
   "source": [
    "def search(search_type, filters='', fields = [], other_args = {}):\n",
    "    base_URL = 'https://banks.data.fdic.gov/api/'\n",
    "    finished = False\n",
    "    data = []\n",
    "    \n",
    "    params = {'limit' : 500}\n",
    "    params['filters'] = filters\n",
    "    params['offset'] = 0\n",
    "    params['fields'] = ','.join(fields)\n",
    "    \n",
    "    for key, value in other_args.items():\n",
    "        params[key] = value\n",
    "    \n",
    "    while not finished:\n",
    "        try:\n",
    "            r = requests.get(base_URL + search_type, params=params).json()\n",
    "        except ConnectionError:\n",
    "            print(\"Connection error\")\n",
    "            continue\n",
    "        data.extend(r['data'])\n",
    "        if len(r['data']) < params['limit']:\n",
    "            finished = True\n",
    "        params['offset'] += params['limit']\n",
    "        \n",
    "    return [x['data'] for x in data]"
   ]
  },
  {
   "cell_type": "code",
   "execution_count": 4,
   "id": "9667defb",
   "metadata": {},
   "outputs": [
    {
     "data": {
      "text/plain": [
       "[{'YEAR': '2019',\n",
       "  'STNAME': 'North Carolina',\n",
       "  'ASSET': 2383515137,\n",
       "  'ID': 'CB_2019_37'},\n",
       " {'YEAR': '2019',\n",
       "  'STNAME': 'North Carolina',\n",
       "  'ASSET': 2797093,\n",
       "  'ID': 'SI_2019_37'}]"
      ]
     },
     "execution_count": 4,
     "metadata": {},
     "output_type": "execute_result"
    }
   ],
   "source": [
    "search('summary', 'STNAME: \"North Carolina\" AND YEAR:2019', ['ASSET', 'STNAME', 'YEAR'])"
   ]
  },
  {
   "cell_type": "code",
   "execution_count": 5,
   "id": "9fd97572",
   "metadata": {},
   "outputs": [],
   "source": [
    "import pandas as pd\n",
    "numeric_cols = ['ASSET', 'DEP', 'DEPDOM', 'EQ', 'NETINC', 'NETINCQ', 'OFFDOM', 'OFFFOR', 'OFFOA', 'ROA', 'ROAPTX', 'ROAPTXQ', 'ROAQ',\n",
    "               'ROE', 'ROEQ']\n",
    "flag_cols = ['ACTIVE', 'CFPBFLAG', 'CONSERVE', 'DENOVO', 'FEDCHRTR',\n",
    "            'FORM31', 'INSDIF', 'INSTAG', 'LAW_SASSER_FLG', 'STCHRTR']\n",
    "cols = numeric_cols + flag_cols"
   ]
  },
  {
   "cell_type": "code",
   "execution_count": 6,
   "id": "348802dc",
   "metadata": {},
   "outputs": [],
   "source": [
    "data = pd.read_csv('institutions.csv', usecols = cols)"
   ]
  },
  {
   "cell_type": "code",
   "execution_count": 7,
   "id": "49ef035d",
   "metadata": {},
   "outputs": [],
   "source": [
    "data['CONSERVE'] = data['CONSERVE'].map(dict(Y=1, N=0))\n",
    "data['LAW_SASSER_FLG'] = data['LAW_SASSER_FLG'].map(dict(Y=1, N=0))"
   ]
  },
  {
   "cell_type": "code",
   "execution_count": 8,
   "id": "4d339063",
   "metadata": {},
   "outputs": [
    {
     "name": "stdout",
     "output_type": "stream",
     "text": [
      "ASSET: 4005\n",
      "DEP: 4005\n",
      "DEPDOM: 4005\n",
      "EQ: 4046\n",
      "NETINC: 4005\n",
      "NETINCQ: 4005\n",
      "OFFDOM: 4005\n",
      "OFFFOR: 4005\n",
      "OFFOA: 4005\n",
      "ROA: 4005\n",
      "ROAPTX: 4005\n",
      "ROAPTXQ: 4005\n",
      "ROAQ: 4005\n",
      "ROE: 4005\n",
      "ROEQ: 4005\n",
      "DENOVO: 4005\n",
      "FORM31: 4005\n",
      "INSTAG: 4005\n"
     ]
    }
   ],
   "source": [
    "for col in cols:\n",
    "    count = 0\n",
    "    for num in data[col]:\n",
    "        if pd.isna(num):\n",
    "            count+=1\n",
    "    if (count > 0):\n",
    "        print(f'{col}: {count}')"
   ]
  },
  {
   "cell_type": "code",
   "execution_count": 9,
   "id": "41308556",
   "metadata": {},
   "outputs": [
    {
     "data": {
      "text/plain": [
       "4046"
      ]
     },
     "execution_count": 9,
     "metadata": {},
     "output_type": "execute_result"
    }
   ],
   "source": [
    "data.shape[0] - data.dropna().shape[0]"
   ]
  },
  {
   "cell_type": "code",
   "execution_count": 10,
   "id": "0791695b",
   "metadata": {},
   "outputs": [],
   "source": [
    "data_dropna = data.dropna()"
   ]
  },
  {
   "cell_type": "code",
   "execution_count": 11,
   "id": "b17a6bda",
   "metadata": {},
   "outputs": [],
   "source": [
    "import matplotlib.pyplot as plt\n",
    "import seaborn as sns\n",
    "sns.set()"
   ]
  },
  {
   "cell_type": "code",
   "execution_count": 12,
   "id": "c7ceea6d",
   "metadata": {},
   "outputs": [],
   "source": [
    "variables = ['YEAR','BRANCHES']\n",
    "r = search(\"summary\", 'STNAME:\"United States\" AND CB_SI:CB',variables)\n",
    "frame = pd.DataFrame(r, columns = variables)\n",
    "x = frame[variables[0]]\n",
    "y = frame[variables[1]]"
   ]
  },
  {
   "cell_type": "code",
   "execution_count": 13,
   "id": "eb862d7a",
   "metadata": {},
   "outputs": [
    {
     "data": {
      "image/png": "[encoded data removed]",
      "text/plain": [
       "<Figure size 432x288 with 1 Axes>"
      ]
     },
     "metadata": {},
     "output_type": "display_data"
    }
   ],
   "source": [
    "plt.scatter(x,y)\n",
    "plt.xlabel(variables[0], fontsize=20)\n",
    "plt.ylabel(variables[1], fontsize=20)\n",
    "ticks = [x for x in range(1, 96, 10)]\n",
    "plt.xticks(ticks)\n",
    "plt.show()"
   ]
  },
  {
   "cell_type": "code",
   "execution_count": 19,
   "id": "1c45fe78",
   "metadata": {},
   "outputs": [
    {
     "name": "stdout",
     "output_type": "stream",
     "text": [
      "nan\n"
     ]
    },
    {
     "data": {
      "image/png": "[encoded data removed]",
      "text/plain": [
       "<Figure size 432x288 with 1 Axes>"
      ]
     },
     "metadata": {},
     "output_type": "display_data"
    }
   ],
   "source": [
    "variables = ['EQ','ROA']\n",
    "x = data[variables[0]]\n",
    "y = data[variables[1]]\n",
    "\n",
    "plt.scatter(x,y)\n",
    "plt.xlabel(variables[0], fontsize=20)\n",
    "plt.ylabel(variables[1], fontsize=20)\n",
    "plt.show()"
   ]
  },
  {
   "cell_type": "code",
   "execution_count": 21,
   "id": "77d1f9aa",
   "metadata": {},
   "outputs": [],
   "source": [
    "import xgboost as xgb\n",
    "from sklearn.model_selection import train_test_split\n",
    "from sklearn import preprocessing\n",
    "import numpy as np"
   ]
  },
  {
   "cell_type": "code",
   "execution_count": 22,
   "id": "3147392a",
   "metadata": {},
   "outputs": [],
   "source": [
    "targets = [0 if x < 1 else 1 for x in data_dropna['ROA']]\n",
    "data_dropcols = data_dropna.drop(numeric_cols , axis=1)\n",
    "data_dropcols['ROAb'] = targets"
   ]
  },
  {
   "cell_type": "code",
   "execution_count": 23,
   "id": "d1983385",
   "metadata": {},
   "outputs": [],
   "source": [
    "data_dropcols_shuff = data_dropcols.sample(frac=1, random_state=40)"
   ]
  },
  {
   "cell_type": "code",
   "execution_count": 24,
   "id": "326ae393",
   "metadata": {},
   "outputs": [],
   "source": [
    "num_one_targets = sum(targets)\n",
    "zero_targets_counter = 0\n",
    "indices = []\n",
    "\n",
    "count = 0\n",
    "for index,row in data_dropcols_shuff.iterrows():\n",
    "    if (row['ROAb'] == 0):\n",
    "        zero_targets_counter += 1\n",
    "        if zero_targets_counter > num_one_targets:\n",
    "            indices.append(index)\n",
    "\n",
    "data_balanced = data_dropcols_shuff.drop(indices)"
   ]
  },
  {
   "cell_type": "code",
   "execution_count": 25,
   "id": "b25a0254",
   "metadata": {},
   "outputs": [],
   "source": [
    "data_balanced_shuff = data_balanced.sample(frac=1, random_state=42)"
   ]
  },
  {
   "cell_type": "code",
   "execution_count": 26,
   "id": "c6a8c63a",
   "metadata": {},
   "outputs": [],
   "source": [
    "targets = data_balanced_shuff['ROAb']\n",
    "inputs = data_balanced_shuff.drop('ROAb', axis = 1)\n",
    "\n",
    "inputs_scaled = preprocessing.scale(inputs)\n",
    "train, test = train_test_split(inputs, test_size=0.10, random_state=42, shuffle=False)\n",
    "\n",
    "train_targets = targets[:len(train)]\n",
    "test_targets = targets[len(train):]"
   ]
  },
  {
   "cell_type": "code",
   "execution_count": 27,
   "id": "cf64e60c",
   "metadata": {},
   "outputs": [],
   "source": [
    "dtrain = xgb.DMatrix(train, label=train_targets)\n",
    "dtest = xgb.DMatrix(test, label=test_targets)"
   ]
  },
  {
   "cell_type": "code",
   "execution_count": 28,
   "id": "c5ddf92a",
   "metadata": {},
   "outputs": [
    {
     "name": "stdout",
     "output_type": "stream",
     "text": [
      "[14:36:21] WARNING: C:/Users/Administrator/workspace/xgboost-win64_release_1.4.0/src/learner.cc:1095: Starting in XGBoost 1.3.0, the default evaluation metric used with the objective 'binary:logistic' was changed from 'error' to 'logloss'. Explicitly set eval_metric if you'd like to restore the old behavior.\n"
     ]
    }
   ],
   "source": [
    "param = {'max_depth':2, 'eta':1, 'objective':'binary:logistic' }\n",
    "num_round = 2\n",
    "bst = xgb.train(param, dtrain, num_round)"
   ]
  },
  {
   "cell_type": "code",
   "execution_count": 29,
   "id": "6010d415",
   "metadata": {},
   "outputs": [],
   "source": [
    "# make prediction\n",
    "preds = bst.predict(dtest)"
   ]
  },
  {
   "cell_type": "code",
   "execution_count": 30,
   "id": "cd47c632",
   "metadata": {},
   "outputs": [
    {
     "data": {
      "text/plain": [
       "<AxesSubplot:title={'center':'Feature importance'}, xlabel='F score', ylabel='Features'>"
      ]
     },
     "execution_count": 30,
     "metadata": {},
     "output_type": "execute_result"
    },
    {
     "data": {
      "image/png": "[encoded data removed]",
      "text/plain": [
       "<Figure size 432x288 with 1 Axes>"
      ]
     },
     "metadata": {},
     "output_type": "display_data"
    }
   ],
   "source": [
    "xgb.plot_importance(bst)"
   ]
  },
  {
   "cell_type": "code",
   "execution_count": 31,
   "id": "9ae5bdb4",
   "metadata": {},
   "outputs": [
    {
     "name": "stdout",
     "output_type": "stream",
     "text": [
      "[0.51472896 0.34982654 0.42514995 ... 0.12499334 0.42514995 0.51472896]\n"
     ]
    }
   ],
   "source": [
    "print(preds)"
   ]
  },
  {
   "cell_type": "code",
   "execution_count": 32,
   "id": "b3c174ee",
   "metadata": {},
   "outputs": [
    {
     "name": "stdout",
     "output_type": "stream",
     "text": [
      "0.6198439241917503\n"
     ]
    }
   ],
   "source": [
    "count = 0\n",
    "\n",
    "for i in range(len(test)):\n",
    "    if preds[i] >= .5:\n",
    "        pred = 1\n",
    "    else:\n",
    "        pred = 0\n",
    "    if pred == test_targets.iloc[i]:\n",
    "        count+=1\n",
    "print(count/len(test))"
   ]
  },
  {
   "cell_type": "code",
   "execution_count": 35,
   "id": "c96d150f",
   "metadata": {},
   "outputs": [],
   "source": [
    "roa = data_dropna['ROA']"
   ]
  },
  {
   "cell_type": "code",
   "execution_count": 37,
   "id": "f600bf5d",
   "metadata": {},
   "outputs": [
    {
     "data": {
      "text/plain": [
       "-0.6908328070397003"
      ]
     },
     "execution_count": 37,
     "metadata": {},
     "output_type": "execute_result"
    }
   ],
   "source": [
    "sum(roa) / len(roa)"
   ]
  },
  {
   "cell_type": "code",
   "execution_count": null,
   "id": "d0899eea",
   "metadata": {},
   "outputs": [],
   "source": []
  }
 ],
 "metadata": {
  "kernelspec": {
   "display_name": "Python 3",
   "language": "python",
   "name": "python3"
  },
  "language_info": {
   "codemirror_mode": {
    "name": "ipython",
    "version": 3
   },
   "file_extension": ".py",
   "mimetype": "text/x-python",
   "name": "python",
   "nbconvert_exporter": "python",
   "pygments_lexer": "ipython3",
   "version": "3.8.8"
  }
 },
 "nbformat": 4,
 "nbformat_minor": 5
}
