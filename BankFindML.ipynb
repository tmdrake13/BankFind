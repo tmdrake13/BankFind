{
 "cells": [
  {
   "cell_type": "code",
   "execution_count": 305,
   "id": "9dc74824",
   "metadata": {},
   "outputs": [],
   "source": [
    "import requests\n",
    "import xgboost as xgb\n",
    "from sklearn.model_selection import train_test_split\n",
    "from sklearn import preprocessing\n",
    "import numpy as np\n",
    "import pandas as pd"
   ]
  },
  {
   "cell_type": "code",
   "execution_count": 306,
   "id": "669432f2",
   "metadata": {},
   "outputs": [],
   "source": [
    "def search(search_type, filters='', fields = [], other_args = {}):\n",
    "    base_URL = 'https://banks.data.fdic.gov/api/'\n",
    "    finished = False\n",
    "    data = []\n",
    "    \n",
    "    params = {'limit' : 500}\n",
    "    params['filters'] = filters\n",
    "    params['offset'] = 0\n",
    "    params['fields'] = ','.join(fields)\n",
    "    \n",
    "    for key, value in other_args.items():\n",
    "        params[key] = value\n",
    "    \n",
    "    while not finished:\n",
    "        try:\n",
    "            r = requests.get(base_URL + search_type, params=params).json()\n",
    "        except ConnectionError:\n",
    "            print(\"Connection error\")\n",
    "            continue\n",
    "        data.extend(r['data'])\n",
    "        if len(r['data']) < params['limit']:\n",
    "            finished = True\n",
    "        params['offset'] += params['limit']\n",
    "        \n",
    "    return [x['data'] for x in data]\n"
   ]
  },
  {
   "cell_type": "code",
   "execution_count": 307,
   "id": "964ae6fe",
   "metadata": {},
   "outputs": [],
   "source": [
    "numeric_cols = ['ASSET', 'DEP', 'EQ', 'OFFICES']\n",
    "flag_cols = ['CB', 'CHRTAGNT',  'CFPBFLAG', 'FEDCHRTR',\n",
    "            'FORM31', 'HCTMULT', 'IBA', 'INSCOML', 'INSSAVE', 'MDI_STATUS_DESC', 'REGAGNT', 'SPECGRP',  'STCHRTR', 'SUBCHAPS',\n",
    "            'TRACT', 'TRUST']\n",
    "cols = numeric_cols + flag_cols\n",
    "variables = flag_cols + ['ROA']"
   ]
  },
  {
   "cell_type": "code",
   "execution_count": 308,
   "id": "d50ce8ad",
   "metadata": {},
   "outputs": [],
   "source": [
    "r = search(\"institutions\", 'ACTIVE:1', variables)"
   ]
  },
  {
   "cell_type": "code",
   "execution_count": 309,
   "id": "43763975",
   "metadata": {},
   "outputs": [],
   "source": [
    "frame = pd.DataFrame(r, columns = variables)"
   ]
  },
  {
   "cell_type": "code",
   "execution_count": 332,
   "id": "49ca6aa9",
   "metadata": {},
   "outputs": [],
   "source": [
    "data = frame.dropna()"
   ]
  },
  {
   "cell_type": "code",
   "execution_count": 333,
   "id": "83a2fc98",
   "metadata": {},
   "outputs": [
    {
     "data": {
      "text/html": [
       "<div>\n",
       "<style scoped>\n",
       "    .dataframe tbody tr th:only-of-type {\n",
       "        vertical-align: middle;\n",
       "    }\n",
       "\n",
       "    .dataframe tbody tr th {\n",
       "        vertical-align: top;\n",
       "    }\n",
       "\n",
       "    .dataframe thead th {\n",
       "        text-align: right;\n",
       "    }\n",
       "</style>\n",
       "<table border=\"1\" class=\"dataframe\">\n",
       "  <thead>\n",
       "    <tr style=\"text-align: right;\">\n",
       "      <th></th>\n",
       "      <th>CB</th>\n",
       "      <th>CHRTAGNT</th>\n",
       "      <th>CFPBFLAG</th>\n",
       "      <th>FEDCHRTR</th>\n",
       "      <th>FORM31</th>\n",
       "      <th>HCTMULT</th>\n",
       "      <th>IBA</th>\n",
       "      <th>INSCOML</th>\n",
       "      <th>INSSAVE</th>\n",
       "      <th>MDI_STATUS_DESC</th>\n",
       "      <th>REGAGNT</th>\n",
       "      <th>SPECGRP</th>\n",
       "      <th>STCHRTR</th>\n",
       "      <th>SUBCHAPS</th>\n",
       "      <th>TRACT</th>\n",
       "      <th>TRUST</th>\n",
       "      <th>ROA</th>\n",
       "    </tr>\n",
       "  </thead>\n",
       "  <tbody>\n",
       "    <tr>\n",
       "      <th>0</th>\n",
       "      <td>1</td>\n",
       "      <td>STATE</td>\n",
       "      <td>0</td>\n",
       "      <td>0</td>\n",
       "      <td>0</td>\n",
       "      <td></td>\n",
       "      <td>0</td>\n",
       "      <td>1</td>\n",
       "      <td>0</td>\n",
       "      <td>NONE</td>\n",
       "      <td>FDIC</td>\n",
       "      <td>4.0</td>\n",
       "      <td>1</td>\n",
       "      <td>0</td>\n",
       "      <td>0</td>\n",
       "      <td>0</td>\n",
       "      <td>0.63</td>\n",
       "    </tr>\n",
       "    <tr>\n",
       "      <th>1</th>\n",
       "      <td>1</td>\n",
       "      <td>STATE</td>\n",
       "      <td>0</td>\n",
       "      <td>0</td>\n",
       "      <td>0</td>\n",
       "      <td></td>\n",
       "      <td>0</td>\n",
       "      <td>1</td>\n",
       "      <td>0</td>\n",
       "      <td>NONE</td>\n",
       "      <td>FDIC</td>\n",
       "      <td>4.0</td>\n",
       "      <td>1</td>\n",
       "      <td>1</td>\n",
       "      <td>0</td>\n",
       "      <td>0</td>\n",
       "      <td>2.74</td>\n",
       "    </tr>\n",
       "    <tr>\n",
       "      <th>2</th>\n",
       "      <td>1</td>\n",
       "      <td>STATE</td>\n",
       "      <td>0</td>\n",
       "      <td>0</td>\n",
       "      <td>0</td>\n",
       "      <td></td>\n",
       "      <td>0</td>\n",
       "      <td>1</td>\n",
       "      <td>0</td>\n",
       "      <td>NONE</td>\n",
       "      <td>FDIC</td>\n",
       "      <td>4.0</td>\n",
       "      <td>1</td>\n",
       "      <td>1</td>\n",
       "      <td>0</td>\n",
       "      <td>0</td>\n",
       "      <td>0.86</td>\n",
       "    </tr>\n",
       "    <tr>\n",
       "      <th>3</th>\n",
       "      <td>1</td>\n",
       "      <td>STATE</td>\n",
       "      <td>0</td>\n",
       "      <td>0</td>\n",
       "      <td>0</td>\n",
       "      <td>1</td>\n",
       "      <td>0</td>\n",
       "      <td>1</td>\n",
       "      <td>0</td>\n",
       "      <td>NONE</td>\n",
       "      <td>FDIC</td>\n",
       "      <td>2.0</td>\n",
       "      <td>1</td>\n",
       "      <td>0</td>\n",
       "      <td>0</td>\n",
       "      <td>0</td>\n",
       "      <td>1.44</td>\n",
       "    </tr>\n",
       "    <tr>\n",
       "      <th>4</th>\n",
       "      <td>1</td>\n",
       "      <td>OCC</td>\n",
       "      <td>0</td>\n",
       "      <td>1</td>\n",
       "      <td>0</td>\n",
       "      <td></td>\n",
       "      <td>0</td>\n",
       "      <td>1</td>\n",
       "      <td>0</td>\n",
       "      <td>NONE</td>\n",
       "      <td>OCC</td>\n",
       "      <td>4.0</td>\n",
       "      <td>0</td>\n",
       "      <td>0</td>\n",
       "      <td>1</td>\n",
       "      <td>1</td>\n",
       "      <td>1.28</td>\n",
       "    </tr>\n",
       "  </tbody>\n",
       "</table>\n",
       "</div>"
      ],
      "text/plain": [
       "  CB CHRTAGNT  CFPBFLAG  FEDCHRTR FORM31 HCTMULT  IBA  INSCOML  INSSAVE  \\\n",
       "0  1    STATE         0         0      0            0        1        0   \n",
       "1  1    STATE         0         0      0            0        1        0   \n",
       "2  1    STATE         0         0      0            0        1        0   \n",
       "3  1    STATE         0         0      0       1    0        1        0   \n",
       "4  1      OCC         0         1      0            0        1        0   \n",
       "\n",
       "  MDI_STATUS_DESC REGAGNT  SPECGRP  STCHRTR SUBCHAPS TRACT TRUST   ROA  \n",
       "0            NONE    FDIC      4.0        1        0     0     0  0.63  \n",
       "1            NONE    FDIC      4.0        1        1     0     0  2.74  \n",
       "2            NONE    FDIC      4.0        1        1     0     0  0.86  \n",
       "3            NONE    FDIC      2.0        1        0     0     0  1.44  \n",
       "4            NONE     OCC      4.0        0        0     1     1  1.28  "
      ]
     },
     "execution_count": 333,
     "metadata": {},
     "output_type": "execute_result"
    }
   ],
   "source": [
    "data.head()"
   ]
  },
  {
   "cell_type": "code",
   "execution_count": 334,
   "id": "2cca3fb1",
   "metadata": {},
   "outputs": [
    {
     "data": {
      "text/html": [
       "<div>\n",
       "<style scoped>\n",
       "    .dataframe tbody tr th:only-of-type {\n",
       "        vertical-align: middle;\n",
       "    }\n",
       "\n",
       "    .dataframe tbody tr th {\n",
       "        vertical-align: top;\n",
       "    }\n",
       "\n",
       "    .dataframe thead th {\n",
       "        text-align: right;\n",
       "    }\n",
       "</style>\n",
       "<table border=\"1\" class=\"dataframe\">\n",
       "  <thead>\n",
       "    <tr style=\"text-align: right;\">\n",
       "      <th></th>\n",
       "      <th>CB</th>\n",
       "      <th>CHRTAGNT</th>\n",
       "      <th>CFPBFLAG</th>\n",
       "      <th>FEDCHRTR</th>\n",
       "      <th>FORM31</th>\n",
       "      <th>HCTMULT</th>\n",
       "      <th>IBA</th>\n",
       "      <th>INSCOML</th>\n",
       "      <th>INSSAVE</th>\n",
       "      <th>MDI_STATUS_DESC</th>\n",
       "      <th>...</th>\n",
       "      <th>TRACT</th>\n",
       "      <th>TRUST</th>\n",
       "      <th>ROA</th>\n",
       "      <th>COMLS</th>\n",
       "      <th>AGRS</th>\n",
       "      <th>CONLS</th>\n",
       "      <th>CCS</th>\n",
       "      <th>INTLS</th>\n",
       "      <th>MRLS</th>\n",
       "      <th>OOBS</th>\n",
       "    </tr>\n",
       "  </thead>\n",
       "  <tbody>\n",
       "    <tr>\n",
       "      <th>0</th>\n",
       "      <td>1</td>\n",
       "      <td>1</td>\n",
       "      <td>0</td>\n",
       "      <td>0</td>\n",
       "      <td>0</td>\n",
       "      <td>0</td>\n",
       "      <td>0</td>\n",
       "      <td>1</td>\n",
       "      <td>0</td>\n",
       "      <td>0</td>\n",
       "      <td>...</td>\n",
       "      <td>0</td>\n",
       "      <td>0</td>\n",
       "      <td>0.63</td>\n",
       "      <td>1</td>\n",
       "      <td>0</td>\n",
       "      <td>0</td>\n",
       "      <td>0</td>\n",
       "      <td>0</td>\n",
       "      <td>0</td>\n",
       "      <td>0</td>\n",
       "    </tr>\n",
       "    <tr>\n",
       "      <th>1</th>\n",
       "      <td>1</td>\n",
       "      <td>1</td>\n",
       "      <td>0</td>\n",
       "      <td>0</td>\n",
       "      <td>0</td>\n",
       "      <td>0</td>\n",
       "      <td>0</td>\n",
       "      <td>1</td>\n",
       "      <td>0</td>\n",
       "      <td>0</td>\n",
       "      <td>...</td>\n",
       "      <td>0</td>\n",
       "      <td>0</td>\n",
       "      <td>2.74</td>\n",
       "      <td>1</td>\n",
       "      <td>0</td>\n",
       "      <td>0</td>\n",
       "      <td>0</td>\n",
       "      <td>0</td>\n",
       "      <td>0</td>\n",
       "      <td>0</td>\n",
       "    </tr>\n",
       "    <tr>\n",
       "      <th>2</th>\n",
       "      <td>1</td>\n",
       "      <td>1</td>\n",
       "      <td>0</td>\n",
       "      <td>0</td>\n",
       "      <td>0</td>\n",
       "      <td>0</td>\n",
       "      <td>0</td>\n",
       "      <td>1</td>\n",
       "      <td>0</td>\n",
       "      <td>0</td>\n",
       "      <td>...</td>\n",
       "      <td>0</td>\n",
       "      <td>0</td>\n",
       "      <td>0.86</td>\n",
       "      <td>1</td>\n",
       "      <td>0</td>\n",
       "      <td>0</td>\n",
       "      <td>0</td>\n",
       "      <td>0</td>\n",
       "      <td>0</td>\n",
       "      <td>0</td>\n",
       "    </tr>\n",
       "    <tr>\n",
       "      <th>3</th>\n",
       "      <td>1</td>\n",
       "      <td>1</td>\n",
       "      <td>0</td>\n",
       "      <td>0</td>\n",
       "      <td>0</td>\n",
       "      <td>1</td>\n",
       "      <td>0</td>\n",
       "      <td>1</td>\n",
       "      <td>0</td>\n",
       "      <td>0</td>\n",
       "      <td>...</td>\n",
       "      <td>0</td>\n",
       "      <td>0</td>\n",
       "      <td>1.44</td>\n",
       "      <td>0</td>\n",
       "      <td>1</td>\n",
       "      <td>0</td>\n",
       "      <td>0</td>\n",
       "      <td>0</td>\n",
       "      <td>0</td>\n",
       "      <td>0</td>\n",
       "    </tr>\n",
       "    <tr>\n",
       "      <th>4</th>\n",
       "      <td>1</td>\n",
       "      <td>0</td>\n",
       "      <td>0</td>\n",
       "      <td>1</td>\n",
       "      <td>0</td>\n",
       "      <td>0</td>\n",
       "      <td>0</td>\n",
       "      <td>1</td>\n",
       "      <td>0</td>\n",
       "      <td>0</td>\n",
       "      <td>...</td>\n",
       "      <td>1</td>\n",
       "      <td>1</td>\n",
       "      <td>1.28</td>\n",
       "      <td>1</td>\n",
       "      <td>0</td>\n",
       "      <td>0</td>\n",
       "      <td>0</td>\n",
       "      <td>0</td>\n",
       "      <td>0</td>\n",
       "      <td>0</td>\n",
       "    </tr>\n",
       "  </tbody>\n",
       "</table>\n",
       "<p>5 rows × 23 columns</p>\n",
       "</div>"
      ],
      "text/plain": [
       "   CB  CHRTAGNT  CFPBFLAG  FEDCHRTR  FORM31  HCTMULT  IBA  INSCOML  INSSAVE  \\\n",
       "0   1         1         0         0       0        0    0        1        0   \n",
       "1   1         1         0         0       0        0    0        1        0   \n",
       "2   1         1         0         0       0        0    0        1        0   \n",
       "3   1         1         0         0       0        1    0        1        0   \n",
       "4   1         0         0         1       0        0    0        1        0   \n",
       "\n",
       "   MDI_STATUS_DESC  ...  TRACT  TRUST   ROA  COMLS  AGRS  CONLS  CCS  INTLS  \\\n",
       "0                0  ...      0      0  0.63      1     0      0    0      0   \n",
       "1                0  ...      0      0  2.74      1     0      0    0      0   \n",
       "2                0  ...      0      0  0.86      1     0      0    0      0   \n",
       "3                0  ...      0      0  1.44      0     1      0    0      0   \n",
       "4                0  ...      1      1  1.28      1     0      0    0      0   \n",
       "\n",
       "   MRLS  OOBS  \n",
       "0     0     0  \n",
       "1     0     0  \n",
       "2     0     0  \n",
       "3     0     0  \n",
       "4     0     0  \n",
       "\n",
       "[5 rows x 23 columns]"
      ]
     },
     "execution_count": 334,
     "metadata": {},
     "output_type": "execute_result"
    }
   ],
   "source": [
    "cdata = data.drop('SPECGRP', axis = 1)\n",
    "cdata['CHRTAGNT'] = data['CHRTAGNT'].map(dict(STATE=1, OCC=0))\n",
    "cdata['MDI_STATUS_DESC'] = data['MDI_STATUS_DESC'].map(lambda x: 0 if x == \"NONE\" else 1)\n",
    "cdata['REGAGNT'] = data['REGAGNT'].map(lambda x: 0 if x == \"FDIC\" else 1)\n",
    "cdata['COMLS'] = data['SPECGRP'].map(lambda x: 1 if x == 4 else 0)\n",
    "cdata['AGRS'] = data['SPECGRP'].map(lambda x: 1 if x == 2 else 0)\n",
    "cdata['CONLS'] = data['SPECGRP'].map(lambda x: 1 if x == 6 else 0)\n",
    "cdata['CCS'] = data['SPECGRP'].map(lambda x: 1 if x == 3 else 0)\n",
    "cdata['INTLS'] = data['SPECGRP'].map(lambda x: 1 if x == 1 else 0)\n",
    "cdata['MRLS'] = data['SPECGRP'].map(lambda x: 1 if x == 5 else 0)\n",
    "cdata['OOBS'] = data['SPECGRP'].map(lambda x: 1 if x == 9 else 0)\n",
    "cdata['CB'] = data['CB'].map(lambda x: 1 if x == '1' else 0)\n",
    "cdata['FORM31'] = data['FORM31'].map(lambda x: 1 if x == '1' else 0)\n",
    "cdata['HCTMULT'] = data['HCTMULT'].map(lambda x: 1 if x == '1' else 0)\n",
    "cdata['TRACT'] = data['TRACT'].map(lambda x: 1 if x == '1' else 0)\n",
    "cdata['TRUST'] = data['TRUST'].map(lambda x: 1 if x == '1' else 0)\n",
    "cdata['SUBCHAPS'] = data['SUBCHAPS'].map(lambda x: 1 if x == '1' else 0)\n",
    "cdata.head()"
   ]
  },
  {
   "cell_type": "code",
   "execution_count": 335,
   "id": "e42edf71",
   "metadata": {},
   "outputs": [],
   "source": [
    "cdata_shuff =  cdata.sample(frac=1, random_state=42)\n",
    "inputs = cdata_shuff.drop('ROA', axis = 1)\n",
    "targets = [0 if x < 1  else 1 for x in cdata_shuff['ROA']]"
   ]
  },
  {
   "cell_type": "code",
   "execution_count": 314,
   "id": "20bc9b31",
   "metadata": {},
   "outputs": [],
   "source": [
    "train, test = train, test = train_test_split(inputs, test_size=0.10, shuffle=False)\n",
    "\n",
    "train_targets = targets[:len(train)]\n",
    "test_targets = targets[len(train):]"
   ]
  },
  {
   "cell_type": "code",
   "execution_count": 315,
   "id": "95a34fef",
   "metadata": {},
   "outputs": [],
   "source": [
    "dtrain = xgb.DMatrix(train, label=train_targets)\n",
    "dtest = xgb.DMatrix(test, label=test_targets)"
   ]
  },
  {
   "cell_type": "code",
   "execution_count": 400,
   "id": "3d1c2c92",
   "metadata": {},
   "outputs": [
    {
     "name": "stdout",
     "output_type": "stream",
     "text": [
      "[15:31:32] WARNING: C:/Users/Administrator/workspace/xgboost-win64_release_1.4.0/src/learner.cc:1095: Starting in XGBoost 1.3.0, the default evaluation metric used with the objective 'binary:logistic' was changed from 'error' to 'logloss'. Explicitly set eval_metric if you'd like to restore the old behavior.\n"
     ]
    }
   ],
   "source": [
    "param = {'max_depth':2, 'eta':1, 'objective':'binary:logistic' }\n",
    "num_round = 10\n",
    "bst = xgb.train(param, dtrain, num_round)"
   ]
  },
  {
   "cell_type": "code",
   "execution_count": 401,
   "id": "0cb8f5ad",
   "metadata": {},
   "outputs": [],
   "source": [
    "preds = bst.predict(dtest)"
   ]
  },
  {
   "cell_type": "code",
   "execution_count": 402,
   "id": "fa0c3976",
   "metadata": {},
   "outputs": [
    {
     "data": {
      "text/plain": [
       "<AxesSubplot:title={'center':'Feature importance'}, xlabel='F score', ylabel='Features'>"
      ]
     },
     "execution_count": 402,
     "metadata": {},
     "output_type": "execute_result"
    },
    {
     "data": {
      "image/png": "[encoded data removed]",
      "text/plain": [
       "<Figure size 432x288 with 1 Axes>"
      ]
     },
     "metadata": {
      "needs_background": "light"
     },
     "output_type": "display_data"
    }
   ],
   "source": [
    "xgb.plot_importance(bst)"
   ]
  },
  {
   "cell_type": "code",
   "execution_count": 403,
   "id": "7a71db14",
   "metadata": {},
   "outputs": [
    {
     "name": "stdout",
     "output_type": "stream",
     "text": [
      "Train accuracy: 0.6797209092955211\n",
      "Test accuracy: 0.6781376518218624\n"
     ]
    }
   ],
   "source": [
    "test_count = 0\n",
    "\n",
    "for i in range(len(test)):\n",
    "    if preds[i] >= .5:\n",
    "        pred = 1\n",
    "    else:\n",
    "        pred = 0\n",
    "    if pred == test_targets[i]:\n",
    "        test_count+=1\n",
    "        \n",
    "train_preds = bst.predict(dtrain)\n",
    "train_count = 0\n",
    "for i in range(len(train)):\n",
    "    if train_preds[i] >= .5:\n",
    "        pred = 1\n",
    "    else:\n",
    "        pred = 0\n",
    "    if pred == train_targets[i]:\n",
    "        train_count+=1\n",
    "        \n",
    "print(f'Train accuracy: {train_count / len(train)}\\nTest accuracy: {test_count/ len(test)}')"
   ]
  },
  {
   "cell_type": "code",
   "execution_count": 320,
   "id": "85256f03",
   "metadata": {},
   "outputs": [],
   "source": [
    "num_r = search(\"institutions\", 'ACTIVE:1', numeric_cols)"
   ]
  },
  {
   "cell_type": "code",
   "execution_count": 375,
   "id": "e5974073",
   "metadata": {},
   "outputs": [],
   "source": [
    "new_frame = pd.DataFrame(num_r, columns = numeric_cols)\n",
    "num_frame = new_frame.dropna()\n",
    "new_data= num_frame.copy()\n",
    "new_data['ASSET'] = pd.to_numeric(num_frame['ASSET'], downcast = \"float\")\n",
    "new_data['DEP'] = pd.to_numeric(num_frame['DEP'], downcast = \"float\")\n",
    "new_data['EQ'] = pd.to_numeric(num_frame['EQ'], downcast = \"float\")\n",
    "new_data['OFFICES'] = pd.to_numeric(num_frame['OFFICES'], downcast = \"float\")"
   ]
  },
  {
   "cell_type": "code",
   "execution_count": 322,
   "id": "cc7b38e5",
   "metadata": {},
   "outputs": [],
   "source": [
    "scaler = preprocessing.StandardScaler()\n",
    "scaled_num_data = scaler.fit_transform(new_data)\n",
    "scaled_num_data = pd.DataFrame(scaled_num_data, columns=numeric_cols)"
   ]
  },
  {
   "cell_type": "code",
   "execution_count": 389,
   "id": "b2d38415",
   "metadata": {},
   "outputs": [],
   "source": [
    "join_data = scaled_num_data.join(cdata)"
   ]
  },
  {
   "cell_type": "code",
   "execution_count": 390,
   "id": "f8e6fe55",
   "metadata": {},
   "outputs": [],
   "source": [
    "new_cdata = join_data.dropna()"
   ]
  },
  {
   "cell_type": "code",
   "execution_count": 391,
   "id": "e61498c7",
   "metadata": {},
   "outputs": [],
   "source": [
    "new_cdata_shuff =  new_cdata.sample(frac=1, random_state=87)\n",
    "new_inputs = new_cdata_shuff.drop('ROA', axis = 1)\n",
    "new_targets = [0 if x < 1 else 1 for x in new_cdata_shuff['ROA']]"
   ]
  },
  {
   "cell_type": "code",
   "execution_count": 392,
   "id": "633d9138",
   "metadata": {},
   "outputs": [],
   "source": [
    "new_train, new_test = train, test = train_test_split(new_inputs, test_size=0.10, shuffle=False)\n",
    "\n",
    "new_train_targets = new_targets[:len(new_train)]\n",
    "new_test_targets = new_targets[len(new_train):]"
   ]
  },
  {
   "cell_type": "code",
   "execution_count": 393,
   "id": "3d63cd67",
   "metadata": {},
   "outputs": [],
   "source": [
    "new_dtrain = xgb.DMatrix(new_train, label=new_train_targets)\n",
    "new_dtest = xgb.DMatrix(new_test, label=new_test_targets)"
   ]
  },
  {
   "cell_type": "code",
   "execution_count": 394,
   "id": "a4cbeb19",
   "metadata": {},
   "outputs": [
    {
     "name": "stdout",
     "output_type": "stream",
     "text": [
      "[15:07:09] WARNING: C:/Users/Administrator/workspace/xgboost-win64_release_1.4.0/src/learner.cc:1095: Starting in XGBoost 1.3.0, the default evaluation metric used with the objective 'binary:logistic' was changed from 'error' to 'logloss'. Explicitly set eval_metric if you'd like to restore the old behavior.\n"
     ]
    }
   ],
   "source": [
    "param = {'max_depth': 2, 'eta':1, 'objective':'binary:logistic' }\n",
    "num_round = 8\n",
    "new_bst = xgb.train(param, new_dtrain, num_round)"
   ]
  },
  {
   "cell_type": "code",
   "execution_count": 395,
   "id": "8c7388a9",
   "metadata": {},
   "outputs": [],
   "source": [
    "new_preds = new_bst.predict(new_dtest)"
   ]
  },
  {
   "cell_type": "code",
   "execution_count": 396,
   "id": "f32495ee",
   "metadata": {},
   "outputs": [
    {
     "data": {
      "text/plain": [
       "<AxesSubplot:title={'center':'Feature importance'}, xlabel='F score', ylabel='Features'>"
      ]
     },
     "execution_count": 396,
     "metadata": {},
     "output_type": "execute_result"
    },
    {
     "data": {
      "image/png": "[encoded data removed]",
      "text/plain": [
       "<Figure size 432x288 with 1 Axes>"
      ]
     },
     "metadata": {
      "needs_background": "light"
     },
     "output_type": "display_data"
    }
   ],
   "source": [
    "xgb.plot_importance(new_bst)"
   ]
  },
  {
   "cell_type": "code",
   "execution_count": 397,
   "id": "0cb2f99d",
   "metadata": {},
   "outputs": [
    {
     "name": "stdout",
     "output_type": "stream",
     "text": [
      "Train accuracy: 0.700877785280216\n",
      "Test accuracy: 0.7004048582995951\n"
     ]
    }
   ],
   "source": [
    "test_count = 0\n",
    "for i in range(len(new_test)):\n",
    "    if new_preds[i] >= .5:\n",
    "        pred = 1\n",
    "    else:\n",
    "        pred = 0\n",
    "    if pred == new_test_targets[i]:\n",
    "        test_count+=1\n",
    "        \n",
    "new_train_preds = new_bst.predict(new_dtrain)\n",
    "train_count = 0\n",
    "for i in range(len(new_train)):\n",
    "    if new_train_preds[i] >= .5:\n",
    "        pred = 1\n",
    "    else:\n",
    "        pred = 0\n",
    "    if pred == new_train_targets[i]:\n",
    "        train_count+=1\n",
    "        \n",
    "print(f'Train accuracy: {train_count / len(new_train)}\\nTest accuracy: {test_count/ len(new_test)}')"
   ]
  },
  {
   "cell_type": "code",
   "execution_count": null,
   "id": "4cebbe77",
   "metadata": {},
   "outputs": [],
   "source": []
  }
 ],
 "metadata": {
  "kernelspec": {
   "display_name": "Python 3",
   "language": "python",
   "name": "python3"
  },
  "language_info": {
   "codemirror_mode": {
    "name": "ipython",
    "version": 3
   },
   "file_extension": ".py",
   "mimetype": "text/x-python",
   "name": "python",
   "nbconvert_exporter": "python",
   "pygments_lexer": "ipython3",
   "version": "3.8.8"
  }
 },
 "nbformat": 4,
 "nbformat_minor": 5
}
