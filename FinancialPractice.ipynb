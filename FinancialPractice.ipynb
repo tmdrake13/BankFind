{
 "cells": [
  {
   "cell_type": "code",
   "execution_count": 43,
   "id": "3493dba6",
   "metadata": {},
   "outputs": [],
   "source": [
    "import xgboost as xgb\n",
    "from sklearn.model_selection import train_test_split\n",
    "from sklearn import preprocessing\n",
    "from sklearn.metrics import accuracy_score\n",
    "import numpy as np\n",
    "import pandas as pd\n",
    "import matplotlib.pyplot as plt\n",
    "import seaborn as sns\n",
    "import numpy as np\n",
    "sns.set()\n",
    "\n",
    "import import_ipynb\n",
    "from BankFindSearch import search"
   ]
  },
  {
   "cell_type": "code",
   "execution_count": 2,
   "id": "bab13b43",
   "metadata": {},
   "outputs": [],
   "source": [
    "r = search('financials', 'CALLYM:202103 AND ACTIVE:1')"
   ]
  },
  {
   "cell_type": "code",
   "execution_count": 3,
   "id": "8860b0dd",
   "metadata": {},
   "outputs": [],
   "source": [
    "data = pd.DataFrame(r)"
   ]
  },
  {
   "cell_type": "code",
   "execution_count": 4,
   "id": "8427de99",
   "metadata": {},
   "outputs": [],
   "source": [
    "nas = []\n",
    "for col in data.columns:\n",
    "    count = 0\n",
    "    for num in data[col]:\n",
    "        if pd.isna(num):\n",
    "            count += 1\n",
    "    if count > 0:\n",
    "        nas.append((col, count))"
   ]
  },
  {
   "cell_type": "code",
   "execution_count": 5,
   "id": "af8aa1d4",
   "metadata": {},
   "outputs": [],
   "source": [
    "nas_to_drop = []\n",
    "for n in nas:\n",
    "    if n[1] > 17:\n",
    "        nas_to_drop.append(n[0])"
   ]
  },
  {
   "cell_type": "code",
   "execution_count": 6,
   "id": "8650d453",
   "metadata": {},
   "outputs": [],
   "source": [
    "new_data = data.drop(nas_to_drop + ['ID'], axis =1)"
   ]
  },
  {
   "cell_type": "code",
   "execution_count": 7,
   "id": "88cf7171",
   "metadata": {},
   "outputs": [
    {
     "data": {
      "text/plain": [
       "18"
      ]
     },
     "execution_count": 7,
     "metadata": {},
     "output_type": "execute_result"
    }
   ],
   "source": [
    "new_data.shape[0] - new_data.dropna().shape[0]"
   ]
  },
  {
   "cell_type": "code",
   "execution_count": 8,
   "id": "1d64fd20",
   "metadata": {},
   "outputs": [],
   "source": [
    "cdata = new_data.dropna()"
   ]
  },
  {
   "cell_type": "code",
   "execution_count": 9,
   "id": "5658982b",
   "metadata": {},
   "outputs": [],
   "source": [
    "cdataf = cdata.select_dtypes(exclude=['object', 'string'])"
   ]
  },
  {
   "cell_type": "code",
   "execution_count": 10,
   "id": "28bddb48",
   "metadata": {},
   "outputs": [],
   "source": [
    "flag_cols = []\n",
    "for col in cdataf.columns:\n",
    "    is_binary = True\n",
    "    for num in cdataf[col]:\n",
    "        if not (num == 0 or num == 1):\n",
    "            is_binary = False\n",
    "            break\n",
    "    if is_binary:\n",
    "        flag_cols.append(col)"
   ]
  },
  {
   "cell_type": "code",
   "execution_count": 11,
   "id": "dada8240",
   "metadata": {},
   "outputs": [],
   "source": [
    "flags_to_drop = []\n",
    "for flag in flag_cols:\n",
    "    avg = sum(cdataf[flag]) / len(cdataf[flag])\n",
    "    if avg == 0 or avg == 1:\n",
    "        flags_to_drop.append(flag)\n",
    "\n",
    "cdata2 = cdataf.drop(flags_to_drop, axis=1)                      "
   ]
  },
  {
   "cell_type": "code",
   "execution_count": 12,
   "id": "de524022",
   "metadata": {},
   "outputs": [],
   "source": [
    "qxcols = []\n",
    "for col in cdata2.columns:\n",
    "    if col[-1] == 'X' or col[-1] == 'Q':\n",
    "        qxcols.append(col)\n",
    "\n",
    "cdata3 = cdata2.drop(qxcols, axis = 1)"
   ]
  },
  {
   "cell_type": "code",
   "execution_count": 13,
   "id": "b308af78",
   "metadata": {},
   "outputs": [
    {
     "data": {
      "text/plain": [
       "0.5890547263681593"
      ]
     },
     "execution_count": 13,
     "metadata": {},
     "output_type": "execute_result"
    }
   ],
   "source": [
    "targets = [0 if x < 1 else 1 for x in cdata3['ROA']]\n",
    "sum(targets) / len(targets)"
   ]
  },
  {
   "cell_type": "code",
   "execution_count": 14,
   "id": "4b0acd99",
   "metadata": {},
   "outputs": [],
   "source": [
    "cdata_shuff =  cdata3.sample(frac=1, random_state=70)\n",
    "inputs = cdata_shuff.drop('ROA', axis = 1)\n",
    "targets = [0 if x < 1  else 1 for x in cdata_shuff['ROA']]"
   ]
  },
  {
   "cell_type": "code",
   "execution_count": 15,
   "id": "de20dadf",
   "metadata": {},
   "outputs": [],
   "source": [
    "train, test = train, test = train_test_split(inputs, test_size=0.10, shuffle=False)\n",
    "\n",
    "train_targets = targets[:len(train)]\n",
    "test_targets = targets[len(train):]"
   ]
  },
  {
   "cell_type": "code",
   "execution_count": 16,
   "id": "fe8d70c9",
   "metadata": {},
   "outputs": [],
   "source": [
    "dtrain = xgb.DMatrix(train, label=train_targets)\n",
    "dtest = xgb.DMatrix(test, label=test_targets)"
   ]
  },
  {
   "cell_type": "code",
   "execution_count": 17,
   "id": "5ccad455",
   "metadata": {},
   "outputs": [
    {
     "name": "stdout",
     "output_type": "stream",
     "text": [
      "[11:13:18] WARNING: C:/Users/Administrator/workspace/xgboost-win64_release_1.4.0/src/learner.cc:1095: Starting in XGBoost 1.3.0, the default evaluation metric used with the objective 'binary:logistic' was changed from 'error' to 'logloss'. Explicitly set eval_metric if you'd like to restore the old behavior.\n"
     ]
    }
   ],
   "source": [
    "param = {'max_depth':2, 'eta':1, 'objective':'binary:logistic' }\n",
    "num_round = 10\n",
    "bst = xgb.train(param, dtrain, num_round)"
   ]
  },
  {
   "cell_type": "code",
   "execution_count": 18,
   "id": "fb2499ad",
   "metadata": {},
   "outputs": [],
   "source": [
    "preds = bst.predict(dtest)"
   ]
  },
  {
   "cell_type": "code",
   "execution_count": 19,
   "id": "a3e218f2",
   "metadata": {},
   "outputs": [
    {
     "data": {
      "text/plain": [
       "<AxesSubplot:title={'center':'Feature importance'}, xlabel='F score', ylabel='Features'>"
      ]
     },
     "execution_count": 19,
     "metadata": {},
     "output_type": "execute_result"
    },
    {
     "data": {
      "image/png": "[encoded data removed]",
      "text/plain": [
       "<Figure size 432x288 with 1 Axes>"
      ]
     },
     "metadata": {},
     "output_type": "display_data"
    }
   ],
   "source": [
    "xgb.plot_importance(bst)"
   ]
  },
  {
   "cell_type": "code",
   "execution_count": 20,
   "id": "7cc5191c",
   "metadata": {},
   "outputs": [
    {
     "name": "stdout",
     "output_type": "stream",
     "text": [
      "Train accuracy: 0.9944714727996462\n",
      "Test accuracy: 0.9880715705765407\n"
     ]
    }
   ],
   "source": [
    "test_count = 0\n",
    "\n",
    "for i in range(len(test)):\n",
    "    if preds[i] >= .5:\n",
    "        pred = 1\n",
    "    else:\n",
    "        pred = 0\n",
    "    if pred == test_targets[i]:\n",
    "        test_count+=1\n",
    "        \n",
    "train_preds = bst.predict(dtrain)\n",
    "train_count = 0\n",
    "for i in range(len(train)):\n",
    "    if train_preds[i] >= .5:\n",
    "        pred = 1\n",
    "    else:\n",
    "        pred = 0\n",
    "    if pred == train_targets[i]:\n",
    "        train_count+=1\n",
    "        \n",
    "print(f'Train accuracy: {train_count / len(train)}\\nTest accuracy: {test_count/ len(test)}')"
   ]
  },
  {
   "cell_type": "code",
   "execution_count": 21,
   "id": "77bec89e",
   "metadata": {},
   "outputs": [],
   "source": [
    "xname = 'NETINC'\n",
    "plotdata = cdata3[['ROA', xname]]\n",
    "from scipy import stats\n",
    "cplotdata = plotdata[(np.abs(stats.zscore(plotdata)) < 3).all(axis=1)]"
   ]
  },
  {
   "cell_type": "code",
   "execution_count": 22,
   "id": "7220738e",
   "metadata": {
    "scrolled": true
   },
   "outputs": [
    {
     "data": {
      "image/png": "[encoded data removed]",
      "text/plain": [
       "<Figure size 432x288 with 1 Axes>"
      ]
     },
     "metadata": {},
     "output_type": "display_data"
    }
   ],
   "source": [
    "x = cplotdata[xname]\n",
    "y = cplotdata['ROA']\n",
    "plt.scatter(x,y)\n",
    "plt.show()"
   ]
  },
  {
   "cell_type": "code",
   "execution_count": 23,
   "id": "687ecdeb",
   "metadata": {},
   "outputs": [],
   "source": [
    "sig_cols_to_drop = ['NOIJY', 'ROE', 'ROEINJR', 'NETINC', 'NETINCA', 'IBEFXTR', 'NETINBM', 'NOIJ', 'CHFLA', 'NONIIAY', 'NONII']"
   ]
  },
  {
   "cell_type": "code",
   "execution_count": 24,
   "id": "f0e178ca",
   "metadata": {},
   "outputs": [],
   "source": [
    "cdata4 = cdata3.drop(sig_cols_to_drop, axis = 1)\n",
    "cdata_shuff2 =  cdata4.sample(frac=1, random_state=6)\n",
    "inputs2 = cdata_shuff2.drop('ROA', axis = 1)\n",
    "targets2 = [0 if x < 1  else 1 for x in cdata_shuff2['ROA']]"
   ]
  },
  {
   "cell_type": "code",
   "execution_count": 25,
   "id": "71f70b06",
   "metadata": {},
   "outputs": [],
   "source": [
    "train2, test2 = train_test_split(inputs2, test_size=0.10, shuffle=False)\n",
    "\n",
    "train_targets2 = targets2[:len(train2)]\n",
    "test_targets2 = targets2[len(train2):]"
   ]
  },
  {
   "cell_type": "code",
   "execution_count": 26,
   "id": "4e6b49d9",
   "metadata": {},
   "outputs": [],
   "source": [
    "dtrain2 = xgb.DMatrix(train2, label=train_targets2)\n",
    "dtest2 = xgb.DMatrix(test2, label=test_targets2)"
   ]
  },
  {
   "cell_type": "code",
   "execution_count": 27,
   "id": "6817ee25",
   "metadata": {},
   "outputs": [
    {
     "name": "stdout",
     "output_type": "stream",
     "text": [
      "[11:13:19] WARNING: C:/Users/Administrator/workspace/xgboost-win64_release_1.4.0/src/learner.cc:1095: Starting in XGBoost 1.3.0, the default evaluation metric used with the objective 'binary:logistic' was changed from 'error' to 'logloss'. Explicitly set eval_metric if you'd like to restore the old behavior.\n"
     ]
    }
   ],
   "source": [
    "param = {'max_depth':2, 'eta':1, 'objective':'binary:logistic' }\n",
    "num_round = 8\n",
    "bst2 = xgb.train(param, dtrain2, num_round)"
   ]
  },
  {
   "cell_type": "code",
   "execution_count": 28,
   "id": "16473352",
   "metadata": {},
   "outputs": [],
   "source": [
    "preds2 = bst2.predict(dtest2)"
   ]
  },
  {
   "cell_type": "code",
   "execution_count": 29,
   "id": "b6ef65bf",
   "metadata": {},
   "outputs": [
    {
     "data": {
      "text/plain": [
       "<AxesSubplot:title={'center':'Feature importance'}, xlabel='F score', ylabel='Features'>"
      ]
     },
     "execution_count": 29,
     "metadata": {},
     "output_type": "execute_result"
    },
    {
     "data": {
      "image/png": "[encoded data removed]",
      "text/plain": [
       "<Figure size 432x288 with 1 Axes>"
      ]
     },
     "metadata": {},
     "output_type": "display_data"
    }
   ],
   "source": [
    "xgb.plot_importance(bst2)"
   ]
  },
  {
   "cell_type": "code",
   "execution_count": 56,
   "id": "6b37b926",
   "metadata": {},
   "outputs": [
    {
     "name": "stdout",
     "output_type": "stream",
     "text": [
      "Train accuracy: 0.7697921273772667\n",
      "Test accuracy: 0.7335984095427436\n"
     ]
    }
   ],
   "source": [
    "train_preds = [1 if x >= .5 else 0 for x in bst2.predict(dtrain2)]\n",
    "test_preds = [1 if x >= .5 else 0 for x in preds2]\n",
    "train_accuracy = accuracy_score(train_targets2, train_preds)\n",
    "test_accuracy = accuracy_score(test_targets2, test_preds)\n",
    "print(f'Train accuracy: {train_accuracy}\\nTest accuracy: {test_accuracy}')"
   ]
  },
  {
   "cell_type": "code",
   "execution_count": null,
   "id": "fb2ff601",
   "metadata": {},
   "outputs": [],
   "source": []
  }
 ],
 "metadata": {
  "kernelspec": {
   "display_name": "Python 3",
   "language": "python",
   "name": "python3"
  },
  "language_info": {
   "codemirror_mode": {
    "name": "ipython",
    "version": 3
   },
   "file_extension": ".py",
   "mimetype": "text/x-python",
   "name": "python",
   "nbconvert_exporter": "python",
   "pygments_lexer": "ipython3",
   "version": "3.8.8"
  }
 },
 "nbformat": 4,
 "nbformat_minor": 5
}
