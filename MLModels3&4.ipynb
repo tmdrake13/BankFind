{
 "cells": [
  {
   "cell_type": "code",
   "execution_count": 235,
   "id": "9dc74824",
   "metadata": {},
   "outputs": [],
   "source": [
    "import import_ipynb\n",
    "from BankFindSearch import search\n",
    "\n",
    "import xgboost as xgb\n",
    "from sklearn.model_selection import train_test_split\n",
    "from sklearn import preprocessing\n",
    "import numpy as np\n",
    "import pandas as pd"
   ]
  },
  {
   "cell_type": "code",
   "execution_count": 236,
   "id": "964ae6fe",
   "metadata": {},
   "outputs": [],
   "source": [
    "#designate variables of interest \n",
    "#only difference from other models is that numeric_cols excludes OFFICES\n",
    "#this is because OFFICES data is missing for inactive banks\n",
    "numeric_cols = ['ASSET', 'DEP', 'EQ']\n",
    "flag_cols = ['ACTIVE', 'CB', 'CHRTAGNT',  'CFPBFLAG', 'FEDCHRTR',\n",
    "            'FORM31', 'HCTMULT', 'IBA', 'INSCOML', 'INSSAVE', 'MDI_STATUS_DESC', 'REGAGNT', 'SPECGRP',  'STCHRTR', 'SUBCHAPS',\n",
    "            'TRACT', 'TRUST']\n",
    "cols = numeric_cols + flag_cols\n",
    "variables = flag_cols + ['ROA']"
   ]
  },
  {
   "cell_type": "markdown",
   "id": "d5eafc52",
   "metadata": {},
   "source": [
    "# Model 3\n",
    "##### This model will consider all banks (active/inactive) and will only use categorical variables (```flag_cols```)"
   ]
  },
  {
   "cell_type": "code",
   "execution_count": 237,
   "id": "d50ce8ad",
   "metadata": {},
   "outputs": [],
   "source": [
    "#search for ALL institutions (active or inactive)\n",
    "r = search(\"institutions\", '', variables)"
   ]
  },
  {
   "cell_type": "code",
   "execution_count": 238,
   "id": "43763975",
   "metadata": {},
   "outputs": [],
   "source": [
    "#load data into pandas dataframe\n",
    "frame = pd.DataFrame(r, columns = variables)"
   ]
  },
  {
   "cell_type": "code",
   "execution_count": 239,
   "id": "49ca6aa9",
   "metadata": {},
   "outputs": [],
   "source": [
    "#drop missing values\n",
    "data = frame.dropna()"
   ]
  },
  {
   "cell_type": "code",
   "execution_count": 240,
   "id": "2cca3fb1",
   "metadata": {},
   "outputs": [],
   "source": [
    "#clean data - convert to binary indicators and convert strings to ints\n",
    "cdata = data.drop('SPECGRP', axis = 1)\n",
    "cdata['CHRTAGNT'] = data['CHRTAGNT'].map(dict(STATE=1, OCC=0))\n",
    "cdata['MDI_STATUS_DESC'] = data['MDI_STATUS_DESC'].map(lambda x: 0 if x == \"NONE\" else 1)\n",
    "cdata['REGAGNT'] = data['REGAGNT'].map(lambda x: 0 if x == \"FDIC\" else 1)\n",
    "cdata['COMLS'] = data['SPECGRP'].map(lambda x: 1 if x == 4 else 0)\n",
    "cdata['AGRS'] = data['SPECGRP'].map(lambda x: 1 if x == 2 else 0)\n",
    "cdata['CONLS'] = data['SPECGRP'].map(lambda x: 1 if x == 6 else 0)\n",
    "cdata['CCS'] = data['SPECGRP'].map(lambda x: 1 if x == 3 else 0)\n",
    "cdata['INTLS'] = data['SPECGRP'].map(lambda x: 1 if x == 1 else 0)\n",
    "cdata['MRLS'] = data['SPECGRP'].map(lambda x: 1 if x == 5 else 0)\n",
    "cdata['OOBS'] = data['SPECGRP'].map(lambda x: 1 if x == 9 else 0)\n",
    "cdata['CB'] = data['CB'].map(lambda x: 1 if x == '1' else 0)\n",
    "cdata['FORM31'] = data['FORM31'].map(lambda x: 1 if x == '1' else 0)\n",
    "cdata['HCTMULT'] = data['HCTMULT'].map(lambda x: 1 if x == '1' else 0)\n",
    "cdata['TRACT'] = data['TRACT'].map(lambda x: 1 if x == '1' else 0)\n",
    "cdata['TRUST'] = data['TRUST'].map(lambda x: 1 if x == '1' else 0)\n",
    "cdata['SUBCHAPS'] = data['SUBCHAPS'].map(lambda x: 1 if x == '1' else 0)"
   ]
  },
  {
   "cell_type": "code",
   "execution_count": 241,
   "id": "e42edf71",
   "metadata": {},
   "outputs": [],
   "source": [
    "#shuffle data - preparing for split\n",
    "cdata_shuff =  cdata.sample(frac=1, random_state=45)\n",
    "\n",
    "#add new col for binary indicator or ROA (1 if ROA is positive, 0  otherwise)\n",
    "#note that this is different than Models 1 and 2\n",
    "#>0% and >1% both give about 70-30 split, so seems most logical to use >0 and balance\n",
    "cdata_shuff['ROAb'] = [0 if x < 0 else 1 for x in cdata_shuff['ROA']]\n",
    "cdata_shuff2 = cdata_shuff.drop('ROA', axis = 1)"
   ]
  },
  {
   "cell_type": "code",
   "execution_count": 242,
   "id": "4bb36648",
   "metadata": {},
   "outputs": [
    {
     "data": {
      "text/plain": [
       "0.7280598520511096"
      ]
     },
     "execution_count": 242,
     "metadata": {},
     "output_type": "execute_result"
    }
   ],
   "source": [
    "#check to see if data is balanced\n",
    "sum(cdata_shuff2['ROAb']) / len(cdata_shuff2['ROAb'])"
   ]
  },
  {
   "cell_type": "code",
   "execution_count": 243,
   "id": "a27a589b",
   "metadata": {},
   "outputs": [],
   "source": [
    "#Balance the dataset to have an equal amount of 0 and 1 targets\n",
    "num_zero_targets = len(cdata_shuff2['ROAb']) - sum(cdata_shuff2['ROAb'])\n",
    "one_targets_counter = 0\n",
    "indices = []\n",
    "\n",
    "count = 0\n",
    "for index,row in cdata_shuff2.iterrows():\n",
    "    if (row['ROAb'] == 1):\n",
    "        one_targets_counter += 1\n",
    "        if one_targets_counter > num_zero_targets:\n",
    "            indices.append(index)\n",
    "\n",
    "data_balanced = cdata_shuff2.drop(indices)"
   ]
  },
  {
   "cell_type": "code",
   "execution_count": 244,
   "id": "ec534582",
   "metadata": {},
   "outputs": [
    {
     "data": {
      "text/plain": [
       "0.5"
      ]
     },
     "execution_count": 244,
     "metadata": {},
     "output_type": "execute_result"
    }
   ],
   "source": [
    "#check to make sure we are now balanced\n",
    "sum(data_balanced['ROAb']) / len(data_balanced['ROAb'])"
   ]
  },
  {
   "cell_type": "code",
   "execution_count": 245,
   "id": "2e10fe20",
   "metadata": {},
   "outputs": [],
   "source": [
    "#shuffle to disperse evenly the balanced 1s and 0s\n",
    "data_balanced_shuff = data_balanced.sample(frac=1, random_state=37)"
   ]
  },
  {
   "cell_type": "code",
   "execution_count": 246,
   "id": "430a56fa",
   "metadata": {},
   "outputs": [],
   "source": [
    "#partition inputs and targets\n",
    "targets = list(data_balanced_shuff['ROAb'])\n",
    "inputs = data_balanced_shuff.drop('ROAb', axis = 1)"
   ]
  },
  {
   "cell_type": "code",
   "execution_count": 247,
   "id": "20bc9b31",
   "metadata": {},
   "outputs": [],
   "source": [
    "#split into test and train datasets\n",
    "train, test = train_test_split(inputs, test_size=0.10, shuffle=False)\n",
    "\n",
    "train_targets = targets[:len(train)]\n",
    "test_targets = targets[len(train):]"
   ]
  },
  {
   "cell_type": "code",
   "execution_count": 248,
   "id": "95a34fef",
   "metadata": {},
   "outputs": [],
   "source": [
    "#load xgb matrix\n",
    "dtrain = xgb.DMatrix(train, label=train_targets)\n",
    "dtest = xgb.DMatrix(test, label=test_targets)"
   ]
  },
  {
   "cell_type": "code",
   "execution_count": 249,
   "id": "3d1c2c92",
   "metadata": {},
   "outputs": [
    {
     "name": "stdout",
     "output_type": "stream",
     "text": [
      "[13:58:45] WARNING: C:/Users/Administrator/workspace/xgboost-win64_release_1.4.0/src/learner.cc:1095: Starting in XGBoost 1.3.0, the default evaluation metric used with the objective 'binary:logistic' was changed from 'error' to 'logloss'. Explicitly set eval_metric if you'd like to restore the old behavior.\n"
     ]
    }
   ],
   "source": [
    "#train the model\n",
    "param = {'max_depth':2, 'eta':1, 'objective':'binary:logistic' }\n",
    "num_round = 8\n",
    "bst = xgb.train(param, dtrain, num_round)"
   ]
  },
  {
   "cell_type": "code",
   "execution_count": 250,
   "id": "0cb8f5ad",
   "metadata": {},
   "outputs": [],
   "source": [
    "#generate predictions\n",
    "preds = bst.predict(dtest)"
   ]
  },
  {
   "cell_type": "code",
   "execution_count": 251,
   "id": "fa0c3976",
   "metadata": {},
   "outputs": [
    {
     "data": {
      "text/plain": [
       "<AxesSubplot:title={'center':'Feature importance'}, xlabel='F score', ylabel='Features'>"
      ]
     },
     "execution_count": 251,
     "metadata": {},
     "output_type": "execute_result"
    },
    {
     "data": {
      "image/png": "[encoded data removed]",
      "text/plain": [
       "<Figure size 432x288 with 1 Axes>"
      ]
     },
     "metadata": {
      "needs_background": "light"
     },
     "output_type": "display_data"
    }
   ],
   "source": [
    "#plot feature importance\n",
    "xgb.plot_importance(bst)"
   ]
  },
  {
   "cell_type": "code",
   "execution_count": 252,
   "id": "7a71db14",
   "metadata": {},
   "outputs": [
    {
     "name": "stdout",
     "output_type": "stream",
     "text": [
      "Train accuracy: 0.7129486518976472\n",
      "Test accuracy: 0.7194744976816074\n"
     ]
    }
   ],
   "source": [
    "#calculate train and test accuracy\n",
    "test_count = 0\n",
    "\n",
    "for i in range(len(test)):\n",
    "    if preds[i] >= .5:\n",
    "        pred = 1\n",
    "    else:\n",
    "        pred = 0\n",
    "    if pred == test_targets[i]:\n",
    "        test_count+=1\n",
    "        \n",
    "train_preds = bst.predict(dtrain)\n",
    "train_count = 0\n",
    "for i in range(len(train)):\n",
    "    if train_preds[i] >= .5:\n",
    "        pred = 1\n",
    "    else:\n",
    "        pred = 0\n",
    "    if pred == train_targets[i]:\n",
    "        train_count+=1\n",
    "        \n",
    "print(f'Train accuracy: {train_count / len(train)}\\nTest accuracy: {test_count/ len(test)}')"
   ]
  },
  {
   "cell_type": "markdown",
   "id": "5252b2d8",
   "metadata": {},
   "source": [
    "### Summary\n",
    "#### This model considered both active and inactive banks\n",
    "#### This model considered only categorical variables\n",
    "#### Model Accuracy = 72%\n",
    "##### This model has the best accuracy so far, which is promising. It can hopefully prove useful in giving a generic overview of which structural variables are most impactful towards a positive return on assets."
   ]
  },
  {
   "cell_type": "markdown",
   "id": "55ce3adb",
   "metadata": {},
   "source": [
    "# Model 4"
   ]
  },
  {
   "cell_type": "markdown",
   "id": "039c3831",
   "metadata": {},
   "source": [
    "##### This model will consider all banks (active/inactive) and will use both the categorical/binary indicator variables and the quantitative variables(```flag_cols``` and ```numeric_cols```)"
   ]
  },
  {
   "cell_type": "code",
   "execution_count": 253,
   "id": "85256f03",
   "metadata": {},
   "outputs": [],
   "source": [
    "#load numeric data from API\n",
    "num_r = search(\"institutions\", '', numeric_cols)"
   ]
  },
  {
   "cell_type": "code",
   "execution_count": 254,
   "id": "7954accf",
   "metadata": {},
   "outputs": [],
   "source": [
    "#load data into pandas\n",
    "new_frame = pd.DataFrame(num_r, columns = numeric_cols)\n",
    "\n",
    "#drop missing values\n",
    "num_frame = new_frame.dropna()\n",
    "new_data= num_frame.copy()\n",
    "\n",
    "#cast numeric variables from string to floats\n",
    "new_data['ASSET'] = pd.to_numeric(num_frame['ASSET'], downcast = \"float\")\n",
    "new_data['DEP'] = pd.to_numeric(num_frame['DEP'], downcast = \"float\")\n",
    "new_data['EQ'] = pd.to_numeric(num_frame['EQ'], downcast = \"float\")"
   ]
  },
  {
   "cell_type": "code",
   "execution_count": 255,
   "id": "be7ecb0e",
   "metadata": {},
   "outputs": [],
   "source": [
    "#scale the quantitative data\n",
    "scaler = preprocessing.StandardScaler()\n",
    "scaled_num_data = scaler.fit_transform(new_data)\n",
    "scaled_num_data = pd.DataFrame(scaled_num_data, columns=numeric_cols)"
   ]
  },
  {
   "cell_type": "code",
   "execution_count": 256,
   "id": "28872187",
   "metadata": {},
   "outputs": [],
   "source": [
    "#combine the scaled numeric data with the categorical data from Model 3\n",
    "join_data = scaled_num_data.join(cdata)"
   ]
  },
  {
   "cell_type": "code",
   "execution_count": 257,
   "id": "cb9b5a3c",
   "metadata": {},
   "outputs": [],
   "source": [
    "#remove missing values - once again, these arise from casting some numeric variables\n",
    "new_cdata = join_data.dropna()"
   ]
  },
  {
   "cell_type": "code",
   "execution_count": 258,
   "id": "52f69f4a",
   "metadata": {},
   "outputs": [],
   "source": [
    "#shuffle data - preparing for split\n",
    "new_cdata_shuff =  new_cdata.sample(frac=1, random_state=7)\n",
    "\n",
    "#add new col for binary indicator or ROA (1 if ROA is positive, 0  otherwise)\n",
    "#note that this is different than Models 1 and 2\n",
    "#>0% and >1% both give about 70-30 split, so seems most logical to use >0 and balance\n",
    "new_cdata_shuff['ROAb'] = [0 if x < 0 else 1 for x in new_cdata_shuff['ROA']]\n",
    "new_cdata_shuff2 = new_cdata_shuff.drop('ROA', axis = 1)"
   ]
  },
  {
   "cell_type": "code",
   "execution_count": 259,
   "id": "21bbb781",
   "metadata": {},
   "outputs": [
    {
     "data": {
      "text/plain": [
       "0.7566459902525476"
      ]
     },
     "execution_count": 259,
     "metadata": {},
     "output_type": "execute_result"
    }
   ],
   "source": [
    "#check to see if data is balanced\n",
    "sum(new_cdata_shuff2['ROAb']) / len(new_cdata_shuff2['ROAb'])"
   ]
  },
  {
   "cell_type": "code",
   "execution_count": 260,
   "id": "be36bb32",
   "metadata": {},
   "outputs": [],
   "source": [
    "#Balance the dataset to have an equal amount of 0 and 1 targets\n",
    "num_zero_targets = len(new_cdata_shuff2['ROAb']) - sum(new_cdata_shuff2['ROAb'])\n",
    "one_targets_counter = 0\n",
    "indices = []\n",
    "\n",
    "count = 0\n",
    "for index,row in new_cdata_shuff2.iterrows():\n",
    "    if (row['ROAb'] == 1):\n",
    "        one_targets_counter += 1\n",
    "        if one_targets_counter > num_zero_targets:\n",
    "            indices.append(index)\n",
    "\n",
    "new_data_balanced = new_cdata_shuff2.drop(indices)"
   ]
  },
  {
   "cell_type": "code",
   "execution_count": 261,
   "id": "1dff25af",
   "metadata": {},
   "outputs": [
    {
     "data": {
      "text/plain": [
       "0.5"
      ]
     },
     "execution_count": 261,
     "metadata": {},
     "output_type": "execute_result"
    }
   ],
   "source": [
    "#check to make sure we are now balanced\n",
    "sum(new_data_balanced['ROAb']) / len(new_data_balanced['ROAb'])"
   ]
  },
  {
   "cell_type": "code",
   "execution_count": 262,
   "id": "b2ec4a79",
   "metadata": {},
   "outputs": [],
   "source": [
    "#shuffle to disperse evenly the balanced 1s and 0s\n",
    "new_data_balanced_shuff = new_data_balanced.sample(frac=1, random_state=8)"
   ]
  },
  {
   "cell_type": "code",
   "execution_count": 263,
   "id": "4f6a1a48",
   "metadata": {},
   "outputs": [],
   "source": [
    "#partition inputs and targets\n",
    "new_targets = list(new_data_balanced_shuff['ROAb'])\n",
    "new_inputs = new_data_balanced_shuff.drop('ROAb', axis = 1)"
   ]
  },
  {
   "cell_type": "code",
   "execution_count": 264,
   "id": "be0646be",
   "metadata": {},
   "outputs": [],
   "source": [
    "#split into test and train datasets\n",
    "new_train, new_test = train, test = train_test_split(new_inputs, test_size=0.10, shuffle=False)\n",
    "\n",
    "new_train_targets = new_targets[:len(new_train)]\n",
    "new_test_targets = new_targets[len(new_train):]"
   ]
  },
  {
   "cell_type": "code",
   "execution_count": 265,
   "id": "cfcb3b58",
   "metadata": {},
   "outputs": [],
   "source": [
    "#load into xgb matrix\n",
    "new_dtrain = xgb.DMatrix(new_train, label=new_train_targets)\n",
    "new_dtest = xgb.DMatrix(new_test, label=new_test_targets)"
   ]
  },
  {
   "cell_type": "code",
   "execution_count": 266,
   "id": "d1a631ea",
   "metadata": {},
   "outputs": [
    {
     "name": "stdout",
     "output_type": "stream",
     "text": [
      "[13:59:14] WARNING: C:/Users/Administrator/workspace/xgboost-win64_release_1.4.0/src/learner.cc:1095: Starting in XGBoost 1.3.0, the default evaluation metric used with the objective 'binary:logistic' was changed from 'error' to 'logloss'. Explicitly set eval_metric if you'd like to restore the old behavior.\n"
     ]
    }
   ],
   "source": [
    "#execute xgb train\n",
    "param = {'max_depth': 2, 'eta':1, 'objective':'binary:logistic' }\n",
    "num_round = 8\n",
    "new_bst = xgb.train(param, new_dtrain, num_round)"
   ]
  },
  {
   "cell_type": "code",
   "execution_count": 267,
   "id": "f9c32836",
   "metadata": {},
   "outputs": [],
   "source": [
    "#generate predictions on test\n",
    "new_preds = new_bst.predict(new_dtest)"
   ]
  },
  {
   "cell_type": "code",
   "execution_count": 268,
   "id": "9e4ce57d",
   "metadata": {},
   "outputs": [
    {
     "data": {
      "text/plain": [
       "<AxesSubplot:title={'center':'Feature importance'}, xlabel='F score', ylabel='Features'>"
      ]
     },
     "execution_count": 268,
     "metadata": {},
     "output_type": "execute_result"
    },
    {
     "data": {
      "image/png": "[encoded data removed]",
      "text/plain": [
       "<Figure size 432x288 with 1 Axes>"
      ]
     },
     "metadata": {
      "needs_background": "light"
     },
     "output_type": "display_data"
    }
   ],
   "source": [
    "#plot feauture importance\n",
    "xgb.plot_importance(new_bst)"
   ]
  },
  {
   "cell_type": "code",
   "execution_count": 269,
   "id": "91eaad2d",
   "metadata": {},
   "outputs": [
    {
     "name": "stdout",
     "output_type": "stream",
     "text": [
      "Train accuracy: 0.7017322038184347\n",
      "Test accuracy: 0.689419795221843\n"
     ]
    }
   ],
   "source": [
    "#print test and train accuracy\n",
    "test_count = 0\n",
    "for i in range(len(new_test)):\n",
    "    if new_preds[i] >= .5:\n",
    "        pred = 1\n",
    "    else:\n",
    "        pred = 0\n",
    "    if pred == new_test_targets[i]:\n",
    "        test_count+=1\n",
    "        \n",
    "new_train_preds = new_bst.predict(new_dtrain)\n",
    "train_count = 0\n",
    "for i in range(len(new_train)):\n",
    "    if new_train_preds[i] >= .5:\n",
    "        pred = 1\n",
    "    else:\n",
    "        pred = 0\n",
    "    if pred == new_train_targets[i]:\n",
    "        train_count+=1\n",
    "        \n",
    "print(f'Train accuracy: {train_count / len(new_train)}\\nTest accuracy: {test_count/ len(new_test)}')"
   ]
  },
  {
   "cell_type": "markdown",
   "id": "8f8090ba",
   "metadata": {},
   "source": [
    "### Summary\n",
    "#### This model considered both active and inactive banks\n",
    "#### This model considered both quantitative and categorical variables\n",
    "#### Model Accuracy = 69%\n",
    "##### This model has a dissapointing accuracy, and its lower test accuracy indicates that our model may have overfit a tad. While it is somewhat suprising this model did not perform better, the three extra variables introduced did create some missing value and balancing problems, which led to having a smaller dataset to work with overall compared with Model 3."
   ]
  }
 ],
 "metadata": {
  "kernelspec": {
   "display_name": "Python 3",
   "language": "python",
   "name": "python3"
  },
  "language_info": {
   "codemirror_mode": {
    "name": "ipython",
    "version": 3
   },
   "file_extension": ".py",
   "mimetype": "text/x-python",
   "name": "python",
   "nbconvert_exporter": "python",
   "pygments_lexer": "ipython3",
   "version": "3.8.8"
  }
 },
 "nbformat": 4,
 "nbformat_minor": 5
}
