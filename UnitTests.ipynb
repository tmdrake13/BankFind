{
 "cells": [
  {
   "cell_type": "code",
   "execution_count": 1,
   "id": "46de9227",
   "metadata": {},
   "outputs": [
    {
     "name": "stdout",
     "output_type": "stream",
     "text": [
      "importing Jupyter notebook from BankFindSearch.ipynb\n"
     ]
    }
   ],
   "source": [
    "import import_ipynb\n",
    "from BankFindSearch import search\n",
    "import unittest"
   ]
  },
  {
   "cell_type": "code",
   "execution_count": 2,
   "id": "ccb59f5b",
   "metadata": {},
   "outputs": [],
   "source": [
    "class TestSearch(unittest.TestCase):\n",
    "    \n",
    "    #test to ensure filtering results works\n",
    "    def test_filter(self):\n",
    "        result = search(\"institutions\", \"CERT: 139\")\n",
    "        self.assertEqual(len(result), 1)\n",
    "        self.assertEqual(result[0]['CERT'], 139)\n",
    "    \n",
    "    #test small search, no aggregation (return size = 27)\n",
    "    def test_small_search(self):\n",
    "        result = search(\"institutions\", 'STNAME: \"Alaska\"')\n",
    "        self.assertLess(len(result), 50)\n",
    "        \n",
    "    #test a large search that requires search to return data in batches and aggregate it together\n",
    "    def test_compound_search(self):\n",
    "        result = search('institutions', 'ACTIVE:1')\n",
    "        self.assertGreater(len(result), 0)\n",
    "        \n",
    "    #test to ensure specifying return fields works\n",
    "    def test_return_fields(self):\n",
    "        result = search('institutions', 'CERT: \"139\"', ['STNAME'])\n",
    "        self.assertEqual(result[0]['STNAME'], 'Florida')\n",
    "        with self.assertRaises(KeyError):\n",
    "            s = result[0]['CERT']\n",
    "            \n",
    "    #test to ensure specifying other arguments, like sort_by, work\n",
    "    def test_other_args(self):\n",
    "        result = search('institutions', 'STNAME: \"Alaska\"', ['CERT'], {'sort_order' : 'DESC', 'sort_by' : 'CERT'})\n",
    "        self.assertEqual(result[0]['CERT'], 33216)\n",
    "    \n",
    "    #test to make sure function rejects bad search types\n",
    "    def test_search_type(self):\n",
    "        with self.assertRaises(ValueError):\n",
    "            search('test')\n"
   ]
  },
  {
   "cell_type": "code",
   "execution_count": 3,
   "id": "5fcd7e42",
   "metadata": {},
   "outputs": [
    {
     "name": "stderr",
     "output_type": "stream",
     "text": [
      "test_compound_search (__main__.TestSearch) ... ok\n",
      "test_filter (__main__.TestSearch) ... ok\n",
      "test_other_args (__main__.TestSearch) ... ok\n",
      "test_return_fields (__main__.TestSearch) ... ok\n",
      "test_search_type (__main__.TestSearch) ... ok\n",
      "test_small_search (__main__.TestSearch) ... ok\n",
      "\n",
      "----------------------------------------------------------------------\n",
      "Ran 6 tests in 11.760s\n",
      "\n",
      "OK\n"
     ]
    },
    {
     "data": {
      "text/plain": [
       "<unittest.main.TestProgram at 0x1eb4e746d60>"
      ]
     },
     "execution_count": 3,
     "metadata": {},
     "output_type": "execute_result"
    }
   ],
   "source": [
    "unittest.main(argv=[''], verbosity=2, exit=False)"
   ]
  },
  {
   "cell_type": "code",
   "execution_count": null,
   "id": "ed3fc9dd",
   "metadata": {},
   "outputs": [],
   "source": []
  }
 ],
 "metadata": {
  "kernelspec": {
   "display_name": "Python 3",
   "language": "python",
   "name": "python3"
  },
  "language_info": {
   "codemirror_mode": {
    "name": "ipython",
    "version": 3
   },
   "file_extension": ".py",
   "mimetype": "text/x-python",
   "name": "python",
   "nbconvert_exporter": "python",
   "pygments_lexer": "ipython3",
   "version": "3.8.8"
  }
 },
 "nbformat": 4,
 "nbformat_minor": 5
}
