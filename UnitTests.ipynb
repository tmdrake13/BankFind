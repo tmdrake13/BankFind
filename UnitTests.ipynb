{
 "cells": [
  {
   "cell_type": "code",
   "execution_count": 43,
   "id": "46de9227",
   "metadata": {},
   "outputs": [],
   "source": [
    "import import_ipynb\n",
    "from BankFindSearch import search\n",
    "import unittest"
   ]
  },
  {
   "cell_type": "code",
   "execution_count": 44,
   "id": "dd7781cf",
   "metadata": {},
   "outputs": [],
   "source": [
    "import csv\n",
    "\n",
    "with open('institutions.csv') as f:\n",
    "    institutions = [{k: v for k, v in row.items()}\n",
    "        for row in csv.DictReader(f, skipinitialspace=True)]"
   ]
  },
  {
   "cell_type": "code",
   "execution_count": 45,
   "id": "ccb59f5b",
   "metadata": {},
   "outputs": [],
   "source": [
    "class TestSearch(unittest.TestCase):\n",
    "    \n",
    "    def test_filter(self):\n",
    "        result = search(\"institutions\", \"CERT: 139\")\n",
    "        self.assertEqual(len(result), 1)\n",
    "        self.assertEqual(result[0]['CERT'], 139)\n",
    "        \n",
    "    def test_small_search(self):\n",
    "        result = search(\"institutions\", 'STNAME: \"Alaska\"')\n",
    "        self.assertEqual(len(result), 27)\n",
    "        \n",
    "    def test_compound_search(self):\n",
    "        result = search('institutions', 'ACTIVE:1')\n",
    "        self.assertEqual(len(result), 4957)\n",
    "        \n",
    "    def test_return_fields(self):\n",
    "        result = search('institutions', 'CERT: \"139\"', ['STNAME'])\n",
    "        self.assertEqual(result[0]['STNAME'], 'Florida')\n",
    "        with self.assertRaises(KeyError):\n",
    "            s = result[0]['CERT']\n",
    "            \n",
    "    def test_other_args(self):\n",
    "        result = search('institutions', 'STNAME: \"Alaska\"', ['CERT'], {'sort_order' : 'DESC', 'sort_by' : 'CERT'})\n",
    "        self.assertEqual(result[0]['CERT'], 33216)\n"
   ]
  },
  {
   "cell_type": "code",
   "execution_count": 46,
   "id": "5fcd7e42",
   "metadata": {},
   "outputs": [
    {
     "name": "stderr",
     "output_type": "stream",
     "text": [
      "test_compound_search (__main__.TestSearch) ... ok\n",
      "test_filter (__main__.TestSearch) ... ok\n",
      "test_other_args (__main__.TestSearch) ... ok\n",
      "test_return_fields (__main__.TestSearch) ... ok\n",
      "test_small_search (__main__.TestSearch) ... ok\n",
      "\n",
      "----------------------------------------------------------------------\n",
      "Ran 5 tests in 27.251s\n",
      "\n",
      "OK\n"
     ]
    },
    {
     "data": {
      "text/plain": [
       "<unittest.main.TestProgram at 0x1a5ace7afd0>"
      ]
     },
     "execution_count": 46,
     "metadata": {},
     "output_type": "execute_result"
    }
   ],
   "source": [
    "unittest.main(argv=[''], verbosity=2, exit=False)"
   ]
  },
  {
   "cell_type": "code",
   "execution_count": null,
   "id": "ed3fc9dd",
   "metadata": {},
   "outputs": [],
   "source": []
  }
 ],
 "metadata": {
  "kernelspec": {
   "display_name": "Python 3",
   "language": "python",
   "name": "python3"
  },
  "language_info": {
   "codemirror_mode": {
    "name": "ipython",
    "version": 3
   },
   "file_extension": ".py",
   "mimetype": "text/x-python",
   "name": "python",
   "nbconvert_exporter": "python",
   "pygments_lexer": "ipython3",
   "version": "3.8.8"
  }
 },
 "nbformat": 4,
 "nbformat_minor": 5
}
