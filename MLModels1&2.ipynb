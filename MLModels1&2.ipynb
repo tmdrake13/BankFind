{
 "cells": [
  {
   "cell_type": "code",
   "execution_count": 32,
   "id": "9dc74824",
   "metadata": {},
   "outputs": [],
   "source": [
    "import import_ipynb\n",
    "from BankFindSearch import search\n",
    "import xgboost as xgb\n",
    "from sklearn.model_selection import train_test_split\n",
    "from sklearn import preprocessing\n",
    "from sklearn.metrics import accuracy_score\n",
    "import numpy as np\n",
    "import pandas as pd\n",
    "import shap"
   ]
  },
  {
   "cell_type": "code",
   "execution_count": 33,
   "id": "964ae6fe",
   "metadata": {},
   "outputs": [],
   "source": [
    "#quantitative variables that idealy aren't redundant\n",
    "numeric_cols = ['ASSET', 'DEP', 'EQ', 'OFFICES']\n",
    "\n",
    "#categorical variables that can be represented with binary indicators\n",
    "flag_cols = ['CB', 'CHRTAGNT',  'CFPBFLAG', 'FEDCHRTR',\n",
    "            'FORM31', 'HCTMULT', 'IBA', 'INSCOML', 'INSSAVE', 'MDI_STATUS_DESC', 'REGAGNT', 'SPECGRP',  'STCHRTR', 'SUBCHAPS',\n",
    "            'TRACT', 'TRUST']\n",
    "\n",
    "cols = numeric_cols + flag_cols\n",
    "\n",
    "#all variables includes the target or dependent variable, ROA\n",
    "variables = flag_cols + ['ROA']"
   ]
  },
  {
   "cell_type": "markdown",
   "id": "c028dfb9",
   "metadata": {},
   "source": [
    "# Model 1"
   ]
  },
  {
   "cell_type": "markdown",
   "id": "18813d45",
   "metadata": {},
   "source": [
    "##### This model will consider active banks only and will only use the categorical/binary indicator variables (```flag_cols```)"
   ]
  },
  {
   "cell_type": "code",
   "execution_count": 34,
   "id": "d50ce8ad",
   "metadata": {},
   "outputs": [],
   "source": [
    "#collect data from API for all active banks\n",
    "r = search(\"institutions\", 'ACTIVE:1', variables)"
   ]
  },
  {
   "cell_type": "code",
   "execution_count": 35,
   "id": "43763975",
   "metadata": {},
   "outputs": [],
   "source": [
    "#load search result into pandas dataframe\n",
    "frame = pd.DataFrame(r, columns = variables)"
   ]
  },
  {
   "cell_type": "code",
   "execution_count": 36,
   "id": "49ca6aa9",
   "metadata": {},
   "outputs": [],
   "source": [
    "#drop missing values\n",
    "data = frame.dropna()"
   ]
  },
  {
   "cell_type": "code",
   "execution_count": 37,
   "id": "83a2fc98",
   "metadata": {},
   "outputs": [
    {
     "data": {
      "text/html": [
       "<div>\n",
       "<style scoped>\n",
       "    .dataframe tbody tr th:only-of-type {\n",
       "        vertical-align: middle;\n",
       "    }\n",
       "\n",
       "    .dataframe tbody tr th {\n",
       "        vertical-align: top;\n",
       "    }\n",
       "\n",
       "    .dataframe thead th {\n",
       "        text-align: right;\n",
       "    }\n",
       "</style>\n",
       "<table border=\"1\" class=\"dataframe\">\n",
       "  <thead>\n",
       "    <tr style=\"text-align: right;\">\n",
       "      <th></th>\n",
       "      <th>CB</th>\n",
       "      <th>CHRTAGNT</th>\n",
       "      <th>CFPBFLAG</th>\n",
       "      <th>FEDCHRTR</th>\n",
       "      <th>FORM31</th>\n",
       "      <th>HCTMULT</th>\n",
       "      <th>IBA</th>\n",
       "      <th>INSCOML</th>\n",
       "      <th>INSSAVE</th>\n",
       "      <th>MDI_STATUS_DESC</th>\n",
       "      <th>REGAGNT</th>\n",
       "      <th>SPECGRP</th>\n",
       "      <th>STCHRTR</th>\n",
       "      <th>SUBCHAPS</th>\n",
       "      <th>TRACT</th>\n",
       "      <th>TRUST</th>\n",
       "      <th>ROA</th>\n",
       "    </tr>\n",
       "  </thead>\n",
       "  <tbody>\n",
       "    <tr>\n",
       "      <th>0</th>\n",
       "      <td>1</td>\n",
       "      <td>STATE</td>\n",
       "      <td>0</td>\n",
       "      <td>0</td>\n",
       "      <td>0</td>\n",
       "      <td></td>\n",
       "      <td>0</td>\n",
       "      <td>1</td>\n",
       "      <td>0</td>\n",
       "      <td>NONE</td>\n",
       "      <td>FDIC</td>\n",
       "      <td>4.0</td>\n",
       "      <td>1</td>\n",
       "      <td>0</td>\n",
       "      <td>0</td>\n",
       "      <td>0</td>\n",
       "      <td>0.63</td>\n",
       "    </tr>\n",
       "    <tr>\n",
       "      <th>1</th>\n",
       "      <td>1</td>\n",
       "      <td>STATE</td>\n",
       "      <td>0</td>\n",
       "      <td>0</td>\n",
       "      <td>0</td>\n",
       "      <td></td>\n",
       "      <td>0</td>\n",
       "      <td>1</td>\n",
       "      <td>0</td>\n",
       "      <td>NONE</td>\n",
       "      <td>FDIC</td>\n",
       "      <td>4.0</td>\n",
       "      <td>1</td>\n",
       "      <td>1</td>\n",
       "      <td>0</td>\n",
       "      <td>0</td>\n",
       "      <td>2.74</td>\n",
       "    </tr>\n",
       "    <tr>\n",
       "      <th>2</th>\n",
       "      <td>1</td>\n",
       "      <td>STATE</td>\n",
       "      <td>0</td>\n",
       "      <td>0</td>\n",
       "      <td>0</td>\n",
       "      <td></td>\n",
       "      <td>0</td>\n",
       "      <td>1</td>\n",
       "      <td>0</td>\n",
       "      <td>NONE</td>\n",
       "      <td>FDIC</td>\n",
       "      <td>4.0</td>\n",
       "      <td>1</td>\n",
       "      <td>1</td>\n",
       "      <td>0</td>\n",
       "      <td>0</td>\n",
       "      <td>0.86</td>\n",
       "    </tr>\n",
       "    <tr>\n",
       "      <th>3</th>\n",
       "      <td>1</td>\n",
       "      <td>STATE</td>\n",
       "      <td>0</td>\n",
       "      <td>0</td>\n",
       "      <td>0</td>\n",
       "      <td>1</td>\n",
       "      <td>0</td>\n",
       "      <td>1</td>\n",
       "      <td>0</td>\n",
       "      <td>NONE</td>\n",
       "      <td>FDIC</td>\n",
       "      <td>2.0</td>\n",
       "      <td>1</td>\n",
       "      <td>0</td>\n",
       "      <td>0</td>\n",
       "      <td>0</td>\n",
       "      <td>1.44</td>\n",
       "    </tr>\n",
       "    <tr>\n",
       "      <th>4</th>\n",
       "      <td>1</td>\n",
       "      <td>OCC</td>\n",
       "      <td>0</td>\n",
       "      <td>1</td>\n",
       "      <td>0</td>\n",
       "      <td></td>\n",
       "      <td>0</td>\n",
       "      <td>1</td>\n",
       "      <td>0</td>\n",
       "      <td>NONE</td>\n",
       "      <td>OCC</td>\n",
       "      <td>4.0</td>\n",
       "      <td>0</td>\n",
       "      <td>0</td>\n",
       "      <td>1</td>\n",
       "      <td>1</td>\n",
       "      <td>1.28</td>\n",
       "    </tr>\n",
       "  </tbody>\n",
       "</table>\n",
       "</div>"
      ],
      "text/plain": [
       "  CB CHRTAGNT  CFPBFLAG  FEDCHRTR FORM31 HCTMULT  IBA  INSCOML  INSSAVE  \\\n",
       "0  1    STATE         0         0      0            0        1        0   \n",
       "1  1    STATE         0         0      0            0        1        0   \n",
       "2  1    STATE         0         0      0            0        1        0   \n",
       "3  1    STATE         0         0      0       1    0        1        0   \n",
       "4  1      OCC         0         1      0            0        1        0   \n",
       "\n",
       "  MDI_STATUS_DESC REGAGNT  SPECGRP  STCHRTR SUBCHAPS TRACT TRUST   ROA  \n",
       "0            NONE    FDIC      4.0        1        0     0     0  0.63  \n",
       "1            NONE    FDIC      4.0        1        1     0     0  2.74  \n",
       "2            NONE    FDIC      4.0        1        1     0     0  0.86  \n",
       "3            NONE    FDIC      2.0        1        0     0     0  1.44  \n",
       "4            NONE     OCC      4.0        0        0     1     1  1.28  "
      ]
     },
     "execution_count": 37,
     "metadata": {},
     "output_type": "execute_result"
    }
   ],
   "source": [
    "data.head()"
   ]
  },
  {
   "cell_type": "code",
   "execution_count": 38,
   "id": "2cca3fb1",
   "metadata": {},
   "outputs": [
    {
     "data": {
      "text/html": [
       "<div>\n",
       "<style scoped>\n",
       "    .dataframe tbody tr th:only-of-type {\n",
       "        vertical-align: middle;\n",
       "    }\n",
       "\n",
       "    .dataframe tbody tr th {\n",
       "        vertical-align: top;\n",
       "    }\n",
       "\n",
       "    .dataframe thead th {\n",
       "        text-align: right;\n",
       "    }\n",
       "</style>\n",
       "<table border=\"1\" class=\"dataframe\">\n",
       "  <thead>\n",
       "    <tr style=\"text-align: right;\">\n",
       "      <th></th>\n",
       "      <th>CB</th>\n",
       "      <th>CHRTAGNT</th>\n",
       "      <th>CFPBFLAG</th>\n",
       "      <th>FEDCHRTR</th>\n",
       "      <th>FORM31</th>\n",
       "      <th>HCTMULT</th>\n",
       "      <th>IBA</th>\n",
       "      <th>INSCOML</th>\n",
       "      <th>INSSAVE</th>\n",
       "      <th>MDI_STATUS_DESC</th>\n",
       "      <th>...</th>\n",
       "      <th>TRACT</th>\n",
       "      <th>TRUST</th>\n",
       "      <th>ROA</th>\n",
       "      <th>COMLS</th>\n",
       "      <th>AGRS</th>\n",
       "      <th>CONLS</th>\n",
       "      <th>CCS</th>\n",
       "      <th>INTLS</th>\n",
       "      <th>MRLS</th>\n",
       "      <th>OOBS</th>\n",
       "    </tr>\n",
       "  </thead>\n",
       "  <tbody>\n",
       "    <tr>\n",
       "      <th>0</th>\n",
       "      <td>1</td>\n",
       "      <td>1</td>\n",
       "      <td>0</td>\n",
       "      <td>0</td>\n",
       "      <td>0</td>\n",
       "      <td>0</td>\n",
       "      <td>0</td>\n",
       "      <td>1</td>\n",
       "      <td>0</td>\n",
       "      <td>0</td>\n",
       "      <td>...</td>\n",
       "      <td>0</td>\n",
       "      <td>0</td>\n",
       "      <td>0.63</td>\n",
       "      <td>1</td>\n",
       "      <td>0</td>\n",
       "      <td>0</td>\n",
       "      <td>0</td>\n",
       "      <td>0</td>\n",
       "      <td>0</td>\n",
       "      <td>0</td>\n",
       "    </tr>\n",
       "    <tr>\n",
       "      <th>1</th>\n",
       "      <td>1</td>\n",
       "      <td>1</td>\n",
       "      <td>0</td>\n",
       "      <td>0</td>\n",
       "      <td>0</td>\n",
       "      <td>0</td>\n",
       "      <td>0</td>\n",
       "      <td>1</td>\n",
       "      <td>0</td>\n",
       "      <td>0</td>\n",
       "      <td>...</td>\n",
       "      <td>0</td>\n",
       "      <td>0</td>\n",
       "      <td>2.74</td>\n",
       "      <td>1</td>\n",
       "      <td>0</td>\n",
       "      <td>0</td>\n",
       "      <td>0</td>\n",
       "      <td>0</td>\n",
       "      <td>0</td>\n",
       "      <td>0</td>\n",
       "    </tr>\n",
       "    <tr>\n",
       "      <th>2</th>\n",
       "      <td>1</td>\n",
       "      <td>1</td>\n",
       "      <td>0</td>\n",
       "      <td>0</td>\n",
       "      <td>0</td>\n",
       "      <td>0</td>\n",
       "      <td>0</td>\n",
       "      <td>1</td>\n",
       "      <td>0</td>\n",
       "      <td>0</td>\n",
       "      <td>...</td>\n",
       "      <td>0</td>\n",
       "      <td>0</td>\n",
       "      <td>0.86</td>\n",
       "      <td>1</td>\n",
       "      <td>0</td>\n",
       "      <td>0</td>\n",
       "      <td>0</td>\n",
       "      <td>0</td>\n",
       "      <td>0</td>\n",
       "      <td>0</td>\n",
       "    </tr>\n",
       "    <tr>\n",
       "      <th>3</th>\n",
       "      <td>1</td>\n",
       "      <td>1</td>\n",
       "      <td>0</td>\n",
       "      <td>0</td>\n",
       "      <td>0</td>\n",
       "      <td>1</td>\n",
       "      <td>0</td>\n",
       "      <td>1</td>\n",
       "      <td>0</td>\n",
       "      <td>0</td>\n",
       "      <td>...</td>\n",
       "      <td>0</td>\n",
       "      <td>0</td>\n",
       "      <td>1.44</td>\n",
       "      <td>0</td>\n",
       "      <td>1</td>\n",
       "      <td>0</td>\n",
       "      <td>0</td>\n",
       "      <td>0</td>\n",
       "      <td>0</td>\n",
       "      <td>0</td>\n",
       "    </tr>\n",
       "    <tr>\n",
       "      <th>4</th>\n",
       "      <td>1</td>\n",
       "      <td>0</td>\n",
       "      <td>0</td>\n",
       "      <td>1</td>\n",
       "      <td>0</td>\n",
       "      <td>0</td>\n",
       "      <td>0</td>\n",
       "      <td>1</td>\n",
       "      <td>0</td>\n",
       "      <td>0</td>\n",
       "      <td>...</td>\n",
       "      <td>1</td>\n",
       "      <td>1</td>\n",
       "      <td>1.28</td>\n",
       "      <td>1</td>\n",
       "      <td>0</td>\n",
       "      <td>0</td>\n",
       "      <td>0</td>\n",
       "      <td>0</td>\n",
       "      <td>0</td>\n",
       "      <td>0</td>\n",
       "    </tr>\n",
       "  </tbody>\n",
       "</table>\n",
       "<p>5 rows × 23 columns</p>\n",
       "</div>"
      ],
      "text/plain": [
       "   CB  CHRTAGNT  CFPBFLAG  FEDCHRTR  FORM31  HCTMULT  IBA  INSCOML  INSSAVE  \\\n",
       "0   1         1         0         0       0        0    0        1        0   \n",
       "1   1         1         0         0       0        0    0        1        0   \n",
       "2   1         1         0         0       0        0    0        1        0   \n",
       "3   1         1         0         0       0        1    0        1        0   \n",
       "4   1         0         0         1       0        0    0        1        0   \n",
       "\n",
       "   MDI_STATUS_DESC  ...  TRACT  TRUST   ROA  COMLS  AGRS  CONLS  CCS  INTLS  \\\n",
       "0                0  ...      0      0  0.63      1     0      0    0      0   \n",
       "1                0  ...      0      0  2.74      1     0      0    0      0   \n",
       "2                0  ...      0      0  0.86      1     0      0    0      0   \n",
       "3                0  ...      0      0  1.44      0     1      0    0      0   \n",
       "4                0  ...      1      1  1.28      1     0      0    0      0   \n",
       "\n",
       "   MRLS  OOBS  \n",
       "0     0     0  \n",
       "1     0     0  \n",
       "2     0     0  \n",
       "3     0     0  \n",
       "4     0     0  \n",
       "\n",
       "[5 rows x 23 columns]"
      ]
     },
     "execution_count": 38,
     "metadata": {},
     "output_type": "execute_result"
    }
   ],
   "source": [
    "#Map all categorical variables to binary indicators if necessary, and map all strings '1's to integers\n",
    "cdata = data.drop('SPECGRP', axis = 1)\n",
    "cdata['CHRTAGNT'] = data['CHRTAGNT'].map(lambda x: 1 if x == 'STATE' else 0)\n",
    "cdata['MDI_STATUS_DESC'] = data['MDI_STATUS_DESC'].map(lambda x: 0 if x == \"NONE\" else 1)\n",
    "cdata['REGAGNT'] = data['REGAGNT'].map(lambda x: 0 if x == \"FDIC\" else 1)\n",
    "cdata['COMLS'] = data['SPECGRP'].map(lambda x: 1 if x == 4 else 0)\n",
    "cdata['AGRS'] = data['SPECGRP'].map(lambda x: 1 if x == 2 else 0)\n",
    "cdata['CONLS'] = data['SPECGRP'].map(lambda x: 1 if x == 6 else 0)\n",
    "cdata['CCS'] = data['SPECGRP'].map(lambda x: 1 if x == 3 else 0)\n",
    "cdata['INTLS'] = data['SPECGRP'].map(lambda x: 1 if x == 1 else 0)\n",
    "cdata['MRLS'] = data['SPECGRP'].map(lambda x: 1 if x == 5 else 0)\n",
    "cdata['OOBS'] = data['SPECGRP'].map(lambda x: 1 if x == 9 else 0)\n",
    "cdata['CB'] = data['CB'].map(lambda x: 1 if x == '1' else 0)\n",
    "cdata['FORM31'] = data['FORM31'].map(lambda x: 1 if x == '1' else 0)\n",
    "cdata['HCTMULT'] = data['HCTMULT'].map(lambda x: 1 if x == '1' else 0)\n",
    "cdata['TRACT'] = data['TRACT'].map(lambda x: 1 if x == '1' else 0)\n",
    "cdata['TRUST'] = data['TRUST'].map(lambda x: 1 if x == '1' else 0)\n",
    "cdata['SUBCHAPS'] = data['SUBCHAPS'].map(lambda x: 1 if x == '1' else 0)\n",
    "cdata.head()"
   ]
  },
  {
   "cell_type": "code",
   "execution_count": 39,
   "id": "e42edf71",
   "metadata": {},
   "outputs": [],
   "source": [
    "#shuffle data and partition inputs and targets\n",
    "cdata_shuff =  cdata.sample(frac=1, random_state=42)\n",
    "inputs = cdata_shuff.drop('ROA', axis = 1)\n",
    "\n",
    "#here, ROA is converted to a binary indicator variable \n",
    "#target is 1 if ROA > 1%, 0 otherwise\n",
    "#1% is chosen to balance the data with 1s and 0s\n",
    "#choosing >0% (postitive/negative)indicator, while more intuitive, would lead to 96-4 split, very unbalanced\n",
    "targets = [0 if x < 1  else 1 for x in cdata_shuff['ROA']]"
   ]
  },
  {
   "cell_type": "code",
   "execution_count": 40,
   "id": "1e91d26c",
   "metadata": {},
   "outputs": [
    {
     "data": {
      "text/plain": [
       "0.586213866990095"
      ]
     },
     "execution_count": 40,
     "metadata": {},
     "output_type": "execute_result"
    }
   ],
   "source": [
    "#check for balance \n",
    "sum(targets) / len(targets)"
   ]
  },
  {
   "cell_type": "code",
   "execution_count": 41,
   "id": "20bc9b31",
   "metadata": {},
   "outputs": [],
   "source": [
    "#split data into train and test\n",
    "train, test = train, test = train_test_split(inputs, test_size=0.10, shuffle=False)\n",
    "\n",
    "train_targets = targets[:len(train)]\n",
    "test_targets = targets[len(train):]"
   ]
  },
  {
   "cell_type": "code",
   "execution_count": 42,
   "id": "95a34fef",
   "metadata": {},
   "outputs": [],
   "source": [
    "#load data into xgb matrix\n",
    "dtrain = xgb.DMatrix(train, label=train_targets)\n",
    "dtest = xgb.DMatrix(test, label=test_targets)"
   ]
  },
  {
   "cell_type": "code",
   "execution_count": 43,
   "id": "3d1c2c92",
   "metadata": {},
   "outputs": [
    {
     "name": "stdout",
     "output_type": "stream",
     "text": [
      "[16:01:08] WARNING: C:/Users/Administrator/workspace/xgboost-win64_release_1.4.0/src/learner.cc:1095: Starting in XGBoost 1.3.0, the default evaluation metric used with the objective 'binary:logistic' was changed from 'error' to 'logloss'. Explicitly set eval_metric if you'd like to restore the old behavior.\n"
     ]
    }
   ],
   "source": [
    "#run xgb train on data\n",
    "param = {'max_depth':2, 'eta':1, 'objective':'binary:logistic' }\n",
    "num_round = 10\n",
    "bst = xgb.train(param, dtrain, num_round)"
   ]
  },
  {
   "cell_type": "code",
   "execution_count": 44,
   "id": "0cb8f5ad",
   "metadata": {},
   "outputs": [],
   "source": [
    "#generate predictions based on model for test dataset\n",
    "preds = bst.predict(dtest)"
   ]
  },
  {
   "cell_type": "code",
   "execution_count": 45,
   "id": "fa0c3976",
   "metadata": {},
   "outputs": [
    {
     "data": {
      "text/plain": [
       "<AxesSubplot:title={'center':'Feature importance'}, xlabel='F score', ylabel='Features'>"
      ]
     },
     "execution_count": 45,
     "metadata": {},
     "output_type": "execute_result"
    },
    {
     "data": {
      "image/png": "[encoded data removed]",
      "text/plain": [
       "<Figure size 432x288 with 1 Axes>"
      ]
     },
     "metadata": {
      "needs_background": "light"
     },
     "output_type": "display_data"
    }
   ],
   "source": [
    "#plot default feature importance - not as good as shap output\n",
    "xgb.plot_importance(bst, importance_type = 'gain', show_values = False)"
   ]
  },
  {
   "cell_type": "code",
   "execution_count": 46,
   "id": "1aaa3240",
   "metadata": {},
   "outputs": [
    {
     "data": {
      "image/png": "[encoded data removed]",
      "text/plain": [
       "<Figure size 576x684 with 2 Axes>"
      ]
     },
     "metadata": {
      "needs_background": "light"
     },
     "output_type": "display_data"
    }
   ],
   "source": [
    "#print shap output - very helpful for understanding variable importance...\n",
    "#esp since above 'gains' metric is not ideal - also gives sense of in which direction...\n",
    "#these variables influence ROA (positive or negative)\n",
    "shape_values = shap.TreeExplainer(bst).shap_values(test)\n",
    "shap.summary_plot(shape_values, test)"
   ]
  },
  {
   "cell_type": "code",
   "execution_count": 47,
   "id": "13cb21c3",
   "metadata": {},
   "outputs": [
    {
     "name": "stdout",
     "output_type": "stream",
     "text": [
      "Train accuracy: 0.6763252470799641\n",
      "Test accuracy: 0.6888888888888889\n"
     ]
    }
   ],
   "source": [
    "#print both train and test accuracy\n",
    "train_preds = [1 if x >= .5 else 0 for x in bst.predict(dtrain)]\n",
    "test_preds = [1 if x >= .5 else 0 for x in preds]\n",
    "train_accuracy = accuracy_score(train_targets, train_preds)\n",
    "test_accuracy = accuracy_score(test_targets, test_preds)\n",
    "print(f'Train accuracy: {train_accuracy}\\nTest accuracy: {test_accuracy}')"
   ]
  },
  {
   "cell_type": "markdown",
   "id": "6882047b",
   "metadata": {},
   "source": [
    "### Summary\n",
    "#### This model considered only active banks\n",
    "#### This model considered only categorical variables \n",
    "#### Model Accuracy = 68%\n",
    "##### 68% accuracy is better than our preliminary 60%, so we are on the right track. However, we hope to still do better than this. There is certaintly a lot of variability to account for, but 70-75% accuracy is a reasonable goal moving forward"
   ]
  },
  {
   "cell_type": "markdown",
   "id": "d2e13a14",
   "metadata": {},
   "source": [
    "# Model 2"
   ]
  },
  {
   "cell_type": "markdown",
   "id": "df33d496",
   "metadata": {},
   "source": [
    "##### This model will consider active banks only and will use both the categorical/binary indicator variables and the quantitative variables(```flag_cols``` and ```numeric_cols```)"
   ]
  },
  {
   "cell_type": "code",
   "execution_count": 48,
   "id": "85256f03",
   "metadata": {},
   "outputs": [],
   "source": [
    "#search for all active banks, asking for only the numeric fields we are interested in\n",
    "num_r = search(\"institutions\", 'ACTIVE:1', numeric_cols)"
   ]
  },
  {
   "cell_type": "code",
   "execution_count": 49,
   "id": "e5974073",
   "metadata": {},
   "outputs": [],
   "source": [
    "#load search result into pandas dataframe\n",
    "new_frame = pd.DataFrame(num_r, columns = numeric_cols)\n",
    "\n",
    "#drop missing values\n",
    "num_frame = new_frame.dropna()\n",
    "\n",
    "#cast the numeric data to floats (since they are returned as strings for some reason)\n",
    "new_data= num_frame.copy()\n",
    "new_data['ASSET'] = pd.to_numeric(num_frame['ASSET'], downcast = \"float\")\n",
    "new_data['DEP'] = pd.to_numeric(num_frame['DEP'], downcast = \"float\")\n",
    "new_data['EQ'] = pd.to_numeric(num_frame['EQ'], downcast = \"float\")\n",
    "new_data['OFFICES'] = pd.to_numeric(num_frame['OFFICES'], downcast = \"float\")"
   ]
  },
  {
   "cell_type": "code",
   "execution_count": 50,
   "id": "cc7b38e5",
   "metadata": {},
   "outputs": [],
   "source": [
    "#scale our quantitative data\n",
    "#this data is important to scale so variables of much higher magnitude don't receive extra weight\n",
    "#note that we do no do this for the indicator variables since this data is inherently low in magnitude...\n",
    "#...and doing so would also make weights much harder to interpret\n",
    "\n",
    "scaler = preprocessing.StandardScaler()\n",
    "scaled_num_data = scaler.fit_transform(new_data)\n",
    "scaled_num_data = pd.DataFrame(scaled_num_data, columns=numeric_cols)"
   ]
  },
  {
   "cell_type": "code",
   "execution_count": 51,
   "id": "b2d38415",
   "metadata": {},
   "outputs": [],
   "source": [
    "#combine the scaled numertic data with the categorical data from Model 2\n",
    "join_data = scaled_num_data.join(cdata)"
   ]
  },
  {
   "cell_type": "code",
   "execution_count": 52,
   "id": "f8e6fe55",
   "metadata": {},
   "outputs": [],
   "source": [
    "#drop any new missings values\n",
    "#this is necessary since some missing values were uncovered after casting numeric vars...\n",
    "#...from strings to floats - they were being stored as empty strings\n",
    "new_cdata = join_data.dropna()"
   ]
  },
  {
   "cell_type": "code",
   "execution_count": 53,
   "id": "e61498c7",
   "metadata": {},
   "outputs": [],
   "source": [
    "#shuffle data, preparing to train-test split\n",
    "new_cdata_shuff =  new_cdata.sample(frac=1, random_state=87)\n",
    "\n",
    "#partition targets and inputs\n",
    "#once again, convert ROA to indicator, 1 if ROA > 1% by same logic as Model 2\n",
    "new_inputs = new_cdata_shuff.drop('ROA', axis = 1)\n",
    "new_targets = [0 if x < 1 else 1 for x in new_cdata_shuff['ROA']]"
   ]
  },
  {
   "cell_type": "code",
   "execution_count": 54,
   "id": "b361259b",
   "metadata": {},
   "outputs": [
    {
     "data": {
      "text/plain": [
       "0.5878775592945469"
      ]
     },
     "execution_count": 54,
     "metadata": {},
     "output_type": "execute_result"
    }
   ],
   "source": [
    "#check for balance \n",
    "sum(new_targets) / len(new_targets)"
   ]
  },
  {
   "cell_type": "code",
   "execution_count": 55,
   "id": "633d9138",
   "metadata": {},
   "outputs": [],
   "source": [
    "#split into train and test datasets\n",
    "new_train, new_test = train_test_split(new_inputs, test_size=0.10, shuffle=False)\n",
    "\n",
    "new_train_targets = new_targets[:len(new_train)]\n",
    "new_test_targets = new_targets[len(new_train):]"
   ]
  },
  {
   "cell_type": "code",
   "execution_count": 56,
   "id": "3d63cd67",
   "metadata": {},
   "outputs": [],
   "source": [
    "#load into xgb matrix\n",
    "new_dtrain = xgb.DMatrix(new_train, label=new_train_targets)\n",
    "new_dtest = xgb.DMatrix(new_test, label=new_test_targets)"
   ]
  },
  {
   "cell_type": "code",
   "execution_count": 57,
   "id": "a4cbeb19",
   "metadata": {},
   "outputs": [
    {
     "name": "stdout",
     "output_type": "stream",
     "text": [
      "[16:01:15] WARNING: C:/Users/Administrator/workspace/xgboost-win64_release_1.4.0/src/learner.cc:1095: Starting in XGBoost 1.3.0, the default evaluation metric used with the objective 'binary:logistic' was changed from 'error' to 'logloss'. Explicitly set eval_metric if you'd like to restore the old behavior.\n"
     ]
    }
   ],
   "source": [
    "#execute xgb training\n",
    "param = {'max_depth': 2, 'eta':1, 'objective':'binary:logistic' }\n",
    "num_round = 8\n",
    "new_bst = xgb.train(param, new_dtrain, num_round)"
   ]
  },
  {
   "cell_type": "code",
   "execution_count": 58,
   "id": "8c7388a9",
   "metadata": {},
   "outputs": [],
   "source": [
    "#generate predictions for test dataset\n",
    "new_preds = new_bst.predict(new_dtest)"
   ]
  },
  {
   "cell_type": "code",
   "execution_count": 59,
   "id": "f32495ee",
   "metadata": {},
   "outputs": [
    {
     "data": {
      "text/plain": [
       "<AxesSubplot:title={'center':'Feature importance'}, xlabel='F score', ylabel='Features'>"
      ]
     },
     "execution_count": 59,
     "metadata": {},
     "output_type": "execute_result"
    },
    {
     "data": {
      "image/png": "[encoded data removed]",
      "text/plain": [
       "<Figure size 432x288 with 1 Axes>"
      ]
     },
     "metadata": {
      "needs_background": "light"
     },
     "output_type": "display_data"
    }
   ],
   "source": [
    "#plot default feature importance - not as good as shap output\n",
    "xgb.plot_importance(new_bst, importance_type = 'gain', show_values = False)"
   ]
  },
  {
   "cell_type": "code",
   "execution_count": 60,
   "id": "f1e04de7",
   "metadata": {},
   "outputs": [
    {
     "data": {
      "image/png": "[encoded data removed]",
      "text/plain": [
       "<Figure size 576x684 with 2 Axes>"
      ]
     },
     "metadata": {
      "needs_background": "light"
     },
     "output_type": "display_data"
    }
   ],
   "source": [
    "#print shap output - very helpful for understanding variable importance\n",
    "shape_values = shap.TreeExplainer(new_bst).shap_values(new_test)\n",
    "shap.summary_plot(shape_values, new_test)"
   ]
  },
  {
   "cell_type": "code",
   "execution_count": 61,
   "id": "4071d9c3",
   "metadata": {},
   "outputs": [
    {
     "name": "stdout",
     "output_type": "stream",
     "text": [
      "Train accuracy: 0.6981302095066456\n",
      "Test accuracy: 0.6963562753036437\n"
     ]
    }
   ],
   "source": [
    "#print both train and test accuracy\n",
    "train_preds = [1 if x >= .5 else 0 for x in new_bst.predict(new_dtrain)]\n",
    "test_preds = [1 if x >= .5 else 0 for x in new_preds]\n",
    "train_accuracy = accuracy_score(new_train_targets, train_preds)\n",
    "test_accuracy = accuracy_score(new_test_targets, test_preds)\n",
    "print(f'Train accuracy: {train_accuracy}\\nTest accuracy: {test_accuracy}')"
   ]
  },
  {
   "cell_type": "markdown",
   "id": "0302d897",
   "metadata": {},
   "source": [
    "### Summary\n",
    "#### This model considered only active banks\n",
    "#### This model considered both quantitative and categorical variables\n",
    "#### Model Accuracy = 70%\n",
    "##### A slight improvement over Model 2. Since these two models ignore inactive banks, one idea is to include all banks in the dataset, which would be about 5x larger of a dataset, and see how the accuracies compare"
   ]
  },
  {
   "cell_type": "code",
   "execution_count": null,
   "id": "54eab871",
   "metadata": {},
   "outputs": [],
   "source": []
  }
 ],
 "metadata": {
  "kernelspec": {
   "display_name": "Python 3",
   "language": "python",
   "name": "python3"
  },
  "language_info": {
   "codemirror_mode": {
    "name": "ipython",
    "version": 3
   },
   "file_extension": ".py",
   "mimetype": "text/x-python",
   "name": "python",
   "nbconvert_exporter": "python",
   "pygments_lexer": "ipython3",
   "version": "3.8.8"
  }
 },
 "nbformat": 4,
 "nbformat_minor": 5
}
